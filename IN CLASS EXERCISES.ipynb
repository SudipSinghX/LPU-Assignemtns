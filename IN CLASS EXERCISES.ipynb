{
 "cells": [
  {
   "cell_type": "code",
   "execution_count": 5,
   "metadata": {},
   "outputs": [
    {
     "data": {
      "text/plain": [
       "9"
      ]
     },
     "execution_count": 5,
     "metadata": {},
     "output_type": "execute_result"
    }
   ],
   "source": [
    "4+5\n",
    "a = 4+5\n",
    "a"
   ]
  },
  {
   "cell_type": "code",
   "execution_count": 6,
   "metadata": {},
   "outputs": [
    {
     "name": "stdout",
     "output_type": "stream",
     "text": [
      "wow we have BacteriaVirus\n"
     ]
    }
   ],
   "source": [
    "A = 'Bacteria'\n",
    "B = 'Virus'\n",
    "print('wow we have {}'.format(A+B))"
   ]
  },
  {
   "cell_type": "code",
   "execution_count": 7,
   "metadata": {},
   "outputs": [
    {
     "data": {
      "text/plain": [
       "'a'"
      ]
     },
     "execution_count": 7,
     "metadata": {},
     "output_type": "execute_result"
    }
   ],
   "source": [
    "A[-1:]"
   ]
  },
  {
   "cell_type": "code",
   "execution_count": 8,
   "metadata": {},
   "outputs": [
    {
     "data": {
      "text/plain": [
       "'airetcaB'"
      ]
     },
     "execution_count": 8,
     "metadata": {},
     "output_type": "execute_result"
    }
   ],
   "source": [
    "A[::-1]"
   ]
  },
  {
   "cell_type": "code",
   "execution_count": null,
   "metadata": {},
   "outputs": [],
   "source": [
    "name = 'Sudip'\n",
    "last = 'Singh'\n",
    "full = name+' '+last\n",
    "print(full)\n",
    "\n",
    "ListStates = ['UP','Bihar','MP','Delhi','Haryana']\n",
    "ListInfected = [1000,3000,1500,2000,2500]\n",
    "Recovered = (200,300,400,500,100)\n",
    "InfectedDict = {'UP':1000,'Bihar':3000,'MP':1500,'Delhi':2000,'Haryana':2500}"
   ]
  },
  {
   "cell_type": "code",
   "execution_count": 5,
   "metadata": {},
   "outputs": [
    {
     "name": "stdout",
     "output_type": "stream",
     "text": [
      "1.0647010647010646\n",
      "0.16406890894175555\n",
      "0.9942004971002486\n"
     ]
    }
   ],
   "source": [
    "Base = 1234\n",
    "Ch10 = 12\n",
    "Ch11 = 2\n",
    "Ch12 = 13\n",
    "Case12 = Base-Ch12\n",
    "Case11 = Case12-Ch11\n",
    "Case10 = Case11-Ch10\n",
    "ChBasePer = (Base-Case12)*100/Case12\n",
    "ChCase12Per = (Case12-Case11)*100/Case11\n",
    "ChCase11Per = (Case11-Case10)*100/Case10\n",
    "print(ChBasePer)\n",
    "print(ChCase12Per)\n",
    "print(ChCase11Per)\n",
    "\n"
   ]
  },
  {
   "cell_type": "code",
   "execution_count": 1,
   "metadata": {
    "scrolled": false
   },
   "outputs": [
    {
     "name": "stdout",
     "output_type": "stream",
     "text": [
      "                                Cured  Deaths  Confirmed   Population  \\\n",
      "State                                                                   \n",
      "Andaman and Nicobar Islands    2406.0     0.0     3202.0     380581.0   \n",
      "Andhra Pradesh               172711.0  5385.0   353409.0   49577103.0   \n",
      "Arunachal Pradesh               673.0     8.0     3476.0    1383727.0   \n",
      "Assam                         85791.0   342.0   158131.0   31205576.0   \n",
      "Bihar                        168614.0  1772.0   275501.0  104099452.0   \n",
      "\n",
      "                                  IFR       CMR  \n",
      "State                                            \n",
      "Andaman and Nicobar Islands  0.000000  0.000000  \n",
      "Andhra Pradesh               1.523730  0.010862  \n",
      "Arunachal Pradesh            0.230150  0.000578  \n",
      "Assam                        0.216276  0.001096  \n",
      "Bihar                        0.643192  0.001702  \n",
      "                   Cured   Deaths  Confirmed   Population       IFR       CMR\n",
      "State                                                                        \n",
      "Delhi          1010544.0  60057.0  2003459.0   16787941.0  2.997666  0.357739\n",
      "Haryana         172637.0   4339.0   312355.0   25351462.0  1.389125  0.017115\n",
      "Uttar Pradesh   393201.0  18449.0   670122.0  199812341.0  2.753081  0.009233\n"
     ]
    }
   ],
   "source": [
    "import numpy as np\n",
    "import pandas as pd\n",
    "\n",
    "CovidDF = pd.read_csv(\"States_covid_19_india.csv\").drop(columns = 'Sno')\n",
    "PoplDF = pd.read_csv(\"population_india_census2011.csv\").sort_values(by=['State / Union Territory'])\n",
    "PoplDF.set_index(\"State / Union Territory\", inplace = True)\n",
    "CovidData = CovidDF.groupby('State/UnionTerritory').sum()\n",
    "PoplData = pd.DataFrame(PoplDF['Population'])\n",
    "FinalData = pd.concat([CovidData, PoplData], axis=1, sort=True).dropna().rename_axis(\"State\")\n",
    "FinalData['IFR'] = FinalData.apply(lambda row: (row.Deaths*100)/row.Confirmed, axis = 1)\n",
    "FinalData['CMR'] = FinalData.apply(lambda row: (row.Deaths*100)/row.Population, axis = 1)\n",
    "print(FinalData.head())\n",
    "FinalSELECT = FinalData.loc[['Delhi','Haryana','Uttar Pradesh']]\n",
    "print(FinalSELECT.head())\n"
   ]
  },
  {
   "cell_type": "code",
   "execution_count": null,
   "metadata": {
    "collapsed": true
   },
   "outputs": [],
   "source": []
  },
  {
   "cell_type": "code",
   "execution_count": null,
   "metadata": {},
   "outputs": [],
   "source": []
  },
  {
   "cell_type": "code",
   "execution_count": null,
   "metadata": {},
   "outputs": [],
   "source": []
  }
 ],
 "metadata": {
  "kernelspec": {
   "display_name": "Python 3",
   "language": "python",
   "name": "python3"
  },
  "language_info": {
   "codemirror_mode": {
    "name": "ipython",
    "version": 3
   },
   "file_extension": ".py",
   "mimetype": "text/x-python",
   "name": "python",
   "nbconvert_exporter": "python",
   "pygments_lexer": "ipython3",
   "version": "3.7.6"
  }
 },
 "nbformat": 4,
 "nbformat_minor": 4
}
