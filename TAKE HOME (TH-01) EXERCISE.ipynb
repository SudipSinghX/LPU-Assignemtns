{
 "cells": [
  {
   "cell_type": "markdown",
   "metadata": {},
   "source": [
    "# Converting States and Infections lists into single lists, touple and dictionary"
   ]
  },
  {
   "cell_type": "code",
   "execution_count": null,
   "metadata": {},
   "outputs": [],
   "source": [
    "States = [\"Maharashtra\",\"Tamil Nadu\",\"Delhi\",\"Gujarat\",\"Uttar Pradesh\",\"West Bengal\",\"Rajasthan\",\"Telengana\",\"Karnataka\",\"Andhra Pradesh\",\"Haryana\",\"Madhya Pradesh\",\"Bihar\",\"Assam\",\"Jammu and Kashmir\",\"Odisha\",\"Punjab\",\"Kerala\",\"Chhattisgarh\",\"Uttarakhand\",\"Jharkhand\",\"Goa\",\"Tripura\",\"Manipur\",\"Himachal Pradesh\",\"Ladakh\",\"Puducherry\",\"Nagaland\",\"Chandigarh\",\"Dadra and Nagar Haveli\",\"Arunachal Pradesh\",\"Mizoram\",\"Andaman and Nicobar\",\"Sikkim\",\"Meghalaya\",\"Lakshadweep\"]\n",
    "Infections = [186626,98392,92175,33913,24825,19819,18662,18570,18016,16097,15509,14106,10471,9013,7849,7545,5784,4753,3013,2984,2584,1482,1435,1279,1014,990,802,501,450,230,195,162,109,102,56,0]"
   ]
  },
  {
   "cell_type": "code",
   "execution_count": 58,
   "metadata": {},
   "outputs": [
    {
     "name": "stdout",
     "output_type": "stream",
     "text": [
      "['Maharashtra', 186626]\n",
      "['Tamil Nadu', 98392]\n",
      "['Delhi', 92175]\n",
      "['Gujarat', 33913]\n",
      "['Uttar Pradesh', 24825]\n",
      "['West Bengal', 19819]\n",
      "['Rajasthan', 18662]\n",
      "['Telengana', 18570]\n",
      "['Karnataka', 18016]\n",
      "['Andhra Pradesh', 16097]\n",
      "['Haryana', 15509]\n",
      "['Madhya Pradesh', 14106]\n",
      "['Bihar', 10471]\n",
      "['Assam', 9013]\n",
      "['Jammu and Kashmir', 7849]\n",
      "['Odisha', 7545]\n",
      "['Punjab', 5784]\n",
      "['Kerala', 4753]\n",
      "['Chhattisgarh', 3013]\n",
      "['Uttarakhand', 2984]\n",
      "['Jharkhand', 2584]\n",
      "['Goa', 1482]\n",
      "['Tripura', 1435]\n",
      "['Manipur', 1279]\n",
      "['Himachal Pradesh', 1014]\n",
      "['Ladakh', 990]\n",
      "['Puducherry', 802]\n",
      "['Nagaland', 501]\n",
      "['Chandigarh', 450]\n",
      "['Dadra and Nagar Haveli', 230]\n",
      "['Arunachal Pradesh', 195]\n",
      "['Mizoram', 162]\n",
      "['Andaman and Nicobar', 109]\n",
      "['Sikkim', 102]\n",
      "['Meghalaya', 56]\n",
      "['Lakshadweep', 0]\n",
      "Resultant List is : ['Lakshadweep', 0]\n"
     ]
    }
   ],
   "source": [
    "for kk in range(len(States)):\n",
    "    print([States[kk], Infections[kk]])\n",
    "\n",
    "#Printing resultant List  \n",
    "print (\"Resultant List is : \" +  str(res)) \n"
   ]
  },
  {
   "cell_type": "code",
   "execution_count": 59,
   "metadata": {},
   "outputs": [
    {
     "name": "stdout",
     "output_type": "stream",
     "text": [
      "[['Maharashtra', 186626], ['Tamil Nadu', 98392], ['Delhi', 92175], ['Gujarat', 33913], ['Uttar Pradesh', 24825], ['West Bengal', 19819], ['Rajasthan', 18662], ['Telengana', 18570], ['Karnataka', 18016], ['Andhra Pradesh', 16097], ['Haryana', 15509], ['Madhya Pradesh', 14106], ['Bihar', 10471], ['Assam', 9013], ['Jammu and Kashmir', 7849], ['Odisha', 7545], ['Punjab', 5784], ['Kerala', 4753], ['Chhattisgarh', 3013], ['Uttarakhand', 2984], ['Jharkhand', 2584], ['Goa', 1482], ['Tripura', 1435], ['Manipur', 1279], ['Himachal Pradesh', 1014], ['Ladakh', 990], ['Puducherry', 802], ['Nagaland', 501], ['Chandigarh', 450], ['Dadra and Nagar Haveli', 230], ['Arunachal Pradesh', 195], ['Mizoram', 162], ['Andaman and Nicobar', 109], ['Sikkim', 102], ['Meghalaya', 56], ['Lakshadweep', 0]]\n"
     ]
    }
   ],
   "source": [
    "#Storing and printing in a single list of lists\n",
    "result = []\n",
    "for k in range(len(States)):\n",
    "    result.append([States[k], Infections[k]])\n",
    "print(result)"
   ]
  },
  {
   "cell_type": "code",
   "execution_count": 53,
   "metadata": {},
   "outputs": [
    {
     "name": "stdout",
     "output_type": "stream",
     "text": [
      "Statewise Infection Printing in combined List \n",
      "\n",
      "[['Maharashtra' '186626']\n",
      " ['Tamil Nadu' '98392']\n",
      " ['Delhi' '92175']\n",
      " ['Gujarat' '33913']\n",
      " ['Uttar Pradesh' '24825']\n",
      " ['West Bengal' '19819']\n",
      " ['Rajasthan' '18662']\n",
      " ['Telengana' '18570']\n",
      " ['Karnataka' '18016']\n",
      " ['Andhra Pradesh' '16097']\n",
      " ['Haryana' '15509']\n",
      " ['Madhya Pradesh' '14106']\n",
      " ['Bihar' '10471']\n",
      " ['Assam' '9013']\n",
      " ['Jammu and Kashmir' '7849']\n",
      " ['Odisha' '7545']\n",
      " ['Punjab' '5784']\n",
      " ['Kerala' '4753']\n",
      " ['Chhattisgarh' '3013']\n",
      " ['Uttarakhand' '2984']\n",
      " ['Jharkhand' '2584']\n",
      " ['Goa' '1482']\n",
      " ['Tripura' '1435']\n",
      " ['Manipur' '1279']\n",
      " ['Himachal Pradesh' '1014']\n",
      " ['Ladakh' '990']\n",
      " ['Puducherry' '802']\n",
      " ['Nagaland' '501']\n",
      " ['Chandigarh' '450']\n",
      " ['Dadra and Nagar Haveli' '230']\n",
      " ['Arunachal Pradesh' '195']\n",
      " ['Mizoram' '162']\n",
      " ['Andaman and Nicobar' '109']\n",
      " ['Sikkim' '102']\n",
      " ['Meghalaya' '56']\n",
      " ['Lakshadweep' '0']]\n"
     ]
    }
   ],
   "source": [
    "#Method 2\n",
    "#Printing using Numpy\n",
    "import numpy as np\n",
    "\n",
    "print(\"Statewise Infection Printing in combined List \\n\")\n",
    "print(np.column_stack((States, Infections)))\n"
   ]
  },
  {
   "cell_type": "code",
   "execution_count": null,
   "metadata": {},
   "outputs": [],
   "source": []
  },
  {
   "cell_type": "code",
   "execution_count": 41,
   "metadata": {},
   "outputs": [
    {
     "name": "stdout",
     "output_type": "stream",
     "text": [
      "Statewise Infection Printing in touple \n",
      "\n",
      "(('Maharashtra', 186626), ('Tamil Nadu', 98392), ('Delhi', 92175), ('Gujarat', 33913), ('Uttar Pradesh', 24825), ('West Bengal', 19819), ('Rajasthan', 18662), ('Telengana', 18570), ('Karnataka', 18016), ('Andhra Pradesh', 16097), ('Haryana', 15509), ('Madhya Pradesh', 14106), ('Bihar', 10471), ('Assam', 9013), ('Jammu and Kashmir', 7849), ('Odisha', 7545), ('Punjab', 5784), ('Kerala', 4753), ('Chhattisgarh', 3013), ('Uttarakhand', 2984), ('Jharkhand', 2584), ('Goa', 1482), ('Tripura', 1435), ('Manipur', 1279), ('Himachal Pradesh', 1014), ('Ladakh', 990), ('Puducherry', 802), ('Nagaland', 501), ('Chandigarh', 450), ('Dadra and Nagar Haveli', 230), ('Arunachal Pradesh', 195), ('Mizoram', 162), ('Andaman and Nicobar', 109), ('Sikkim', 102), ('Meghalaya', 56), ('Lakshadweep', 0))\n"
     ]
    }
   ],
   "source": [
    "print('Statewise Infection Printing in touple \\n')\n",
    "       \n",
    "print(tuple(zip(States, Infections)))"
   ]
  },
  {
   "cell_type": "code",
   "execution_count": 40,
   "metadata": {},
   "outputs": [
    {
     "name": "stdout",
     "output_type": "stream",
     "text": [
      "Resultant dictionary is : {'Maharashtra': 186626, 'Tamil Nadu': 98392, 'Delhi': 92175, 'Gujarat': 33913, 'Uttar Pradesh': 24825, 'West Bengal': 19819, 'Rajasthan': 18662, 'Telengana': 18570, 'Karnataka': 18016, 'Andhra Pradesh': 16097, 'Haryana': 15509, 'Madhya Pradesh': 14106, 'Bihar': 10471, 'Assam': 9013, 'Jammu and Kashmir': 7849, 'Odisha': 7545, 'Punjab': 5784, 'Kerala': 4753, 'Chhattisgarh': 3013, 'Uttarakhand': 2984, 'Jharkhand': 2584, 'Goa': 1482, 'Tripura': 1435, 'Manipur': 1279, 'Himachal Pradesh': 1014, 'Ladakh': 990, 'Puducherry': 802, 'Nagaland': 501, 'Chandigarh': 450, 'Dadra and Nagar Haveli': 230, 'Arunachal Pradesh': 195, 'Mizoram': 162, 'Andaman and Nicobar': 109, 'Sikkim': 102, 'Meghalaya': 56, 'Lakshadweep': 0}\n"
     ]
    }
   ],
   "source": [
    "res1 = {States[i]: Infections[i] for i in range(len(States))} \n",
    "  \n",
    "# Printing resultant dictionary  \n",
    "print (\"Resultant dictionary is : \" +  str(res1)) "
   ]
  },
  {
   "cell_type": "code",
   "execution_count": null,
   "metadata": {},
   "outputs": [],
   "source": []
  }
 ],
 "metadata": {
  "kernelspec": {
   "display_name": "Python 3",
   "language": "python",
   "name": "python3"
  },
  "language_info": {
   "codemirror_mode": {
    "name": "ipython",
    "version": 3
   },
   "file_extension": ".py",
   "mimetype": "text/x-python",
   "name": "python",
   "nbconvert_exporter": "python",
   "pygments_lexer": "ipython3",
   "version": "3.7.6"
  }
 },
 "nbformat": 4,
 "nbformat_minor": 4
}
