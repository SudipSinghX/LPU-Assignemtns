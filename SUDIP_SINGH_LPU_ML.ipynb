{
 "cells": [
  {
   "cell_type": "code",
   "execution_count": 5,
   "metadata": {},
   "outputs": [
    {
     "data": {
      "text/plain": [
       "9"
      ]
     },
     "execution_count": 5,
     "metadata": {},
     "output_type": "execute_result"
    }
   ],
   "source": [
    "4+5\n",
    "a = 4+5\n",
    "a"
   ]
  },
  {
   "cell_type": "code",
   "execution_count": 6,
   "metadata": {},
   "outputs": [
    {
     "name": "stdout",
     "output_type": "stream",
     "text": [
      "wow we have BacteriaVirus\n"
     ]
    }
   ],
   "source": [
    "A = 'Bacteria'\n",
    "B = 'Virus'\n",
    "print('wow we have {}'.format(A+B))"
   ]
  },
  {
   "cell_type": "code",
   "execution_count": 7,
   "metadata": {},
   "outputs": [
    {
     "data": {
      "text/plain": [
       "'a'"
      ]
     },
     "execution_count": 7,
     "metadata": {},
     "output_type": "execute_result"
    }
   ],
   "source": [
    "A[-1:]"
   ]
  },
  {
   "cell_type": "code",
   "execution_count": 8,
   "metadata": {},
   "outputs": [
    {
     "data": {
      "text/plain": [
       "'airetcaB'"
      ]
     },
     "execution_count": 8,
     "metadata": {},
     "output_type": "execute_result"
    }
   ],
   "source": [
    "A[::-1]"
   ]
  },
  {
   "cell_type": "code",
   "execution_count": null,
   "metadata": {},
   "outputs": [],
   "source": [
    "name = 'Sudip'\n",
    "last = 'Singh'\n",
    "full = name+' '+last\n",
    "print(full)\n",
    "\n",
    "ListStates = ['UP','Bihar','MP','Delhi','Haryana']\n",
    "ListInfected = [1000,3000,1500,2000,2500]\n",
    "Recovered = (200,300,400,500,100)\n",
    "InfectedDict = {'UP':1000,'Bihar':3000,'MP':1500,'Delhi':2000,'Haryana':2500}"
   ]
  },
  {
   "cell_type": "code",
   "execution_count": 5,
   "metadata": {},
   "outputs": [
    {
     "name": "stdout",
     "output_type": "stream",
     "text": [
      "1.0647010647010646\n",
      "0.16406890894175555\n",
      "0.9942004971002486\n"
     ]
    }
   ],
   "source": [
    "Base = 1234\n",
    "Ch10 = 12\n",
    "Ch11 = 2\n",
    "Ch12 = 13\n",
    "Case12 = Base-Ch12\n",
    "Case11 = Case12-Ch11\n",
    "Case10 = Case11-Ch10\n",
    "ChBasePer = (Base-Case12)*100/Case12\n",
    "ChCase12Per = (Case12-Case11)*100/Case11\n",
    "ChCase11Per = (Case11-Case10)*100/Case10\n",
    "print(ChBasePer)\n",
    "print(ChCase12Per)\n",
    "print(ChCase11Per)\n",
    "\n"
   ]
  },
  {
   "cell_type": "code",
   "execution_count": null,
   "metadata": {
    "scrolled": true
   },
   "outputs": [],
   "source": [
    "import numpy as np\n",
    "import pandas as pd\n",
    "from tkinter import *\n",
    "\n",
    "CovidDF = pd.read_csv(\"States_covid_19_india.csv\").drop(columns = 'Sno')\n",
    "PoplDF = pd.read_csv(\"population_india_census2011.csv\").sort_values(by=['State / Union Territory'])\n",
    "PoplDF.set_index(\"State / Union Territory\", inplace = True)\n",
    "CovidData = CovidDF.groupby('State/UnionTerritory').sum()\n",
    "PoplData = pd.DataFrame(PoplDF['Population'])\n",
    "FinalData = pd.concat([CovidData, PoplData], axis=1, sort=True).dropna().rename_axis(\"State/UT\")\n",
    "FinalData['IFR'] = FinalData.apply(lambda row: (row.Deaths*100)/row.Confirmed, axis = 1)\n",
    "FinalData['CMR'] = FinalData.apply(lambda row: (row.Deaths*100)/row.Population, axis = 1)\n",
    "print(FinalData)\n",
    "\n",
    "root = Tk()\n",
    "root.title('PANDEMIC ANALYTICS ENGINE')\n",
    "\n",
    "def selected(event):\n",
    "    myLabel = Label(root, text = clicked.get())\n",
    "    Data = FinalData.loc[FinalData['State/UT'] == clicked.get()]\n",
    "    myLabel = Label(root, text = Data['Population']).pack()\n",
    "    \n",
    "Options = FinalData.index.values.tolist()\n",
    "clicked= StringVar()\n",
    "clicked.set(Options[0])\n",
    "drop = OptionMenu(root, clicked, *Options, command=selected)\n",
    "drop.pack(pady=20)\n",
    "\n",
    "#myButton = Button(root, text = 'Select State/UT',command=selected)\n",
    "#myButton.pack()\n",
    "\n",
    "\n",
    "root.mainloop()\n",
    "\n"
   ]
  },
  {
   "cell_type": "code",
   "execution_count": null,
   "metadata": {},
   "outputs": [],
   "source": []
  },
  {
   "cell_type": "code",
   "execution_count": null,
   "metadata": {},
   "outputs": [],
   "source": []
  },
  {
   "cell_type": "code",
   "execution_count": null,
   "metadata": {},
   "outputs": [],
   "source": []
  }
 ],
 "metadata": {
  "kernelspec": {
   "display_name": "Python 3",
   "language": "python",
   "name": "python3"
  },
  "language_info": {
   "codemirror_mode": {
    "name": "ipython",
    "version": 3
   },
   "file_extension": ".py",
   "mimetype": "text/x-python",
   "name": "python",
   "nbconvert_exporter": "python",
   "pygments_lexer": "ipython3",
   "version": "3.7.6"
  }
 },
 "nbformat": 4,
 "nbformat_minor": 4
}
