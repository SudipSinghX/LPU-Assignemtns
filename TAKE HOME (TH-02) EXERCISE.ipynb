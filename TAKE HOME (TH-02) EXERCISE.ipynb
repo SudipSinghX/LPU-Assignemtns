{
 "cells": [
  {
   "cell_type": "markdown",
   "metadata": {},
   "source": [
    "#    DOWNLOADING CSV FILES FROM www.kaggle.com AND REPRESENTING THEM IN DATAFRAME AND PLOTS"
   ]
  },
  {
   "cell_type": "code",
   "execution_count": 235,
   "metadata": {},
   "outputs": [
    {
     "name": "stdout",
     "output_type": "stream",
     "text": [
      "       Sno      Date     Time              State/UnionTerritory  \\\n",
      "0        1  30/01/20  6:00 PM                            Kerala   \n",
      "1        2  31/01/20  6:00 PM                            Kerala   \n",
      "2        3  01/02/20  6:00 PM                            Kerala   \n",
      "3        4  02/02/20  6:00 PM                            Kerala   \n",
      "4        5  03/02/20  6:00 PM                            Kerala   \n",
      "...    ...       ...      ...                               ...   \n",
      "3706  3707  03/07/20  8:00 AM                           Tripura   \n",
      "3707  3708  03/07/20  8:00 AM                       Uttarakhand   \n",
      "3708  3709  03/07/20  8:00 AM                     Uttar Pradesh   \n",
      "3709  3710  03/07/20  8:00 AM                       West Bengal   \n",
      "3710  3711  03/07/20  8:00 AM  Cases being reassigned to states   \n",
      "\n",
      "     ConfirmedIndianNational ConfirmedForeignNational  Cured  Deaths  \\\n",
      "0                          1                        0      0       0   \n",
      "1                          1                        0      0       0   \n",
      "2                          2                        0      0       0   \n",
      "3                          3                        0      0       0   \n",
      "4                          3                        0      0       0   \n",
      "...                      ...                      ...    ...     ...   \n",
      "3706                       -                        -   1146       1   \n",
      "3707                       -                        -   2405      42   \n",
      "3708                       -                        -  17221     735   \n",
      "3709                       -                        -  13037     699   \n",
      "3710                       -                        -      0       0   \n",
      "\n",
      "      Confirmed  \n",
      "0             1  \n",
      "1             1  \n",
      "2             2  \n",
      "3             3  \n",
      "4             3  \n",
      "...         ...  \n",
      "3706       1435  \n",
      "3707       2984  \n",
      "3708      24825  \n",
      "3709      19819  \n",
      "3710       6031  \n",
      "\n",
      "[3711 rows x 9 columns]\n"
     ]
    }
   ],
   "source": [
    "import pandas as pd \n",
    "import matplotlib.pyplot as pl\n",
    "\n",
    "data = pd.read_csv('covid_19_india.csv')\n",
    "dataf = pd.DataFrame(data)\n",
    "print(dataf)"
   ]
  },
  {
   "cell_type": "code",
   "execution_count": 239,
   "metadata": {},
   "outputs": [
    {
     "name": "stdout",
     "output_type": "stream",
     "text": [
      "                  State/UnionTerritory  Confirmed  Cured  Deaths\n",
      "0                               Kerala          1      0       0\n",
      "1                               Kerala          1      0       0\n",
      "2                               Kerala          2      0       0\n",
      "3                               Kerala          3      0       0\n",
      "4                               Kerala          3      0       0\n",
      "...                                ...        ...    ...     ...\n",
      "3706                           Tripura       1435   1146       1\n",
      "3707                       Uttarakhand       2984   2405      42\n",
      "3708                     Uttar Pradesh      24825  17221     735\n",
      "3709                       West Bengal      19819  13037     699\n",
      "3710  Cases being reassigned to states       6031      0       0\n",
      "\n",
      "[3711 rows x 4 columns]\n"
     ]
    }
   ],
   "source": [
    "Data = dataf[['State/UnionTerritory','Confirmed','Cured','Deaths']]\n",
    "print(Data)"
   ]
  },
  {
   "cell_type": "code",
   "execution_count": 245,
   "metadata": {},
   "outputs": [
    {
     "name": "stdout",
     "output_type": "stream",
     "text": [
      "                                             Confirmed         Cured  \\\n",
      "State/UnionTerritory                                                   \n",
      "Daman & Diu                                   2.000000      0.000000   \n",
      "Dadar Nagar Haveli                            5.027027      0.378378   \n",
      "Meghalaya                                    24.777778     14.654321   \n",
      "Andaman and Nicobar Islands                  32.020000     24.060000   \n",
      "Mizoram                                      33.495050      6.861386   \n",
      "Arunachal Pradesh                            37.782609      7.315217   \n",
      "Sikkim                                       42.341463     13.707317   \n",
      "Unassigned                                   53.666667      0.000000   \n",
      "Puducherry                                  100.027778     39.018519   \n",
      "Dadra and Nagar Haveli and Daman and Diu    109.545455     32.772727   \n",
      "Nagaland                                    153.479167     59.229167   \n",
      "Ladakh                                      167.697479     65.941176   \n",
      "Chandigarh                                  174.542056    116.383178   \n",
      "Manipur                                     202.941176     68.676471   \n",
      "Goa                                         227.250000     69.400000   \n",
      "Himachal Pradesh                            235.171429    129.571429   \n",
      "Tripura                                     434.511364    235.545455   \n",
      "Chhattisgarh                                592.112150    348.728972   \n",
      "Uttarakhand                                 650.585586    374.891892   \n",
      "Jharkhand                                   692.904255    407.585106   \n",
      "Kerala                                      808.942308    426.705128   \n",
      "Telengana                                  1017.676471    492.372549   \n",
      "Punjab                                     1548.025641   1008.410256   \n",
      "Odisha                                     1558.372727   1015.827273   \n",
      "Assam                                      1682.244681    912.670213   \n",
      "Jammu and Kashmir                          1867.615385    922.478632   \n",
      "Haryana                                    2560.286885   1415.057377   \n",
      "Bihar                                      2649.048077   1621.288462   \n",
      "Karnataka                                  2789.401709   1421.128205   \n",
      "Andhra Pradesh                             3100.078947   1515.008772   \n",
      "West Bengal                                4503.972222   2281.398148   \n",
      "Rajasthan                                  5173.902439   3509.341463   \n",
      "Madhya Pradesh                             5216.704762   3210.771429   \n",
      "Uttar Pradesh                              5492.803279   3222.959016   \n",
      "Cases being reassigned to states           6621.022222      0.000000   \n",
      "Telangana                                  9550.681818   4269.363636   \n",
      "Gujarat                                   11132.169811   6660.094340   \n",
      "Delhi                                     16156.927419   8149.548387   \n",
      "Tamil Nadu                                17530.142857   9277.260504   \n",
      "Maharashtra                               42897.111111  19007.384615   \n",
      "\n",
      "                                               Deaths  \n",
      "State/UnionTerritory                                   \n",
      "Daman & Diu                                  0.000000  \n",
      "Dadar Nagar Haveli                           0.000000  \n",
      "Meghalaya                                    0.987654  \n",
      "Andaman and Nicobar Islands                  0.000000  \n",
      "Mizoram                                      0.000000  \n",
      "Arunachal Pradesh                            0.086957  \n",
      "Sikkim                                       0.000000  \n",
      "Unassigned                                   0.000000  \n",
      "Puducherry                                   1.629630  \n",
      "Dadra and Nagar Haveli and Daman and Diu     0.000000  \n",
      "Nagaland                                     0.000000  \n",
      "Ladakh                                       0.260504  \n",
      "Chandigarh                                   2.373832  \n",
      "Manipur                                      0.000000  \n",
      "Goa                                          0.270000  \n",
      "Himachal Pradesh                             3.419048  \n",
      "Tripura                                      0.272727  \n",
      "Chhattisgarh                                 2.532710  \n",
      "Uttarakhand                                  7.477477  \n",
      "Jharkhand                                    4.946809  \n",
      "Kerala                                       5.416667  \n",
      "Telengana                                   29.284314  \n",
      "Punjab                                      35.777778  \n",
      "Odisha                                       5.254545  \n",
      "Assam                                        3.638298  \n",
      "Jammu and Kashmir                           23.726496  \n",
      "Haryana                                     35.565574  \n",
      "Bihar                                       17.038462  \n",
      "Karnataka                                   46.282051  \n",
      "Andhra Pradesh                              47.236842  \n",
      "West Bengal                                213.527778  \n",
      "Rajasthan                                  117.804878  \n",
      "Madhya Pradesh                             234.228571  \n",
      "Uttar Pradesh                              151.221311  \n",
      "Cases being reassigned to states             0.000000  \n",
      "Telangana                                  216.181818  \n",
      "Gujarat                                    665.622642  \n",
      "Delhi                                      484.330645  \n",
      "Tamil Nadu                                 190.436975  \n",
      "Maharashtra                               1766.393162  \n"
     ]
    }
   ],
   "source": [
    "df_pivot = pd.pivot_table(dataf,index=\"State/UnionTerritory\").drop(columns = 'Sno').sort_values(by=\"Confirmed\")\n",
    "print(df_pivot)"
   ]
  },
  {
   "cell_type": "code",
   "execution_count": 246,
   "metadata": {},
   "outputs": [
    {
     "data": {
      "image/png": "[encoded data removed]",
      "text/plain": [
       "<Figure size 432x288 with 1 Axes>"
      ]
     },
     "metadata": {
      "needs_background": "light"
     },
     "output_type": "display_data"
    }
   ],
   "source": [
    "df_pivot.plot(kind='bar')\n",
    "pl.show()"
   ]
  },
  {
   "cell_type": "markdown",
   "metadata": {},
   "source": [
    "# TKINTER APPLICATION: PANDEMIC ANALYSER"
   ]
  },
  {
   "cell_type": "code",
   "execution_count": 243,
   "metadata": {},
   "outputs": [
    {
     "name": "stdout",
     "output_type": "stream",
     "text": [
      "                                Cured  Deaths  Confirmed   Population     IFR  \\\n",
      "State                                                                           \n",
      "Andaman and Nicobar Islands    2406.0     0.0     3202.0     380581.0  0.0000   \n",
      "Andhra Pradesh               172711.0  5385.0   353409.0   49577103.0  1.5237   \n",
      "Arunachal Pradesh               673.0     8.0     3476.0    1383727.0  0.2301   \n",
      "Assam                         85791.0   342.0   158131.0   31205576.0  0.2163   \n",
      "Bihar                        168614.0  1772.0   275501.0  104099452.0  0.6432   \n",
      "\n",
      "                                CMR  \n",
      "State                                \n",
      "Andaman and Nicobar Islands  0.0000  \n",
      "Andhra Pradesh               0.0109  \n",
      "Arunachal Pradesh            0.0006  \n",
      "Assam                        0.0011  \n",
      "Bihar                        0.0017  \n"
     ]
    }
   ],
   "source": [
    "import numpy as np\n",
    "import pandas as pd\n",
    "from tkinter import *\n",
    "\n",
    "CovidDF = pd.read_csv(\"States_covid_19_india.csv\").drop(columns = 'Sno')\n",
    "PoplDF = pd.read_csv(\"population_india_census2011.csv\").sort_values(by=['State / Union Territory'])\n",
    "PoplDF.set_index(\"State / Union Territory\", inplace = True)\n",
    "CovidData = CovidDF.groupby('State/UnionTerritory').sum()\n",
    "PoplData = pd.DataFrame(PoplDF['Population'])\n",
    "FinalData = pd.concat([CovidData, PoplData], axis=1, sort=True).dropna().rename_axis(\"State\")\n",
    "FinalData['IFR'] = FinalData.apply(lambda row: round((row.Deaths*100)/row.Confirmed,4), axis = 1)\n",
    "FinalData['CMR'] = FinalData.apply(lambda row: round((row.Deaths*100)/row.Population,4), axis = 1)\n",
    "\n",
    "print(FinalData.head())\n",
    "\n",
    "root = Tk()\n",
    "root.geometry('450x400+1200+150')\n",
    "root.title('PANDEMIC ANALYTICS ENGINE')\n",
    "\n",
    "def selected(event):\n",
    "    b = clicked.get()\n",
    "    Selected = FinalData.loc[[b]]\n",
    "    \n",
    "    Confirmed = Selected.at[b,'Confirmed']\n",
    "    myLabelC = Label(root, text = Confirmed,bg = 'yellow').grid(row = 200, column = 400, padx = 20, pady = 20)\n",
    "   \n",
    "    Cured = Selected.at[b,'Cured']\n",
    "    myLabelCU = Label(root, text = Cured,bg = 'green').grid(row = 300, column = 400, padx = 20, pady = 20)\n",
    "    \n",
    "    Deaths = Selected.at[b,'Deaths']\n",
    "    myLabelD = Label(root, text = Deaths,bg = 'red').grid(row = 400, column = 400, padx = 20, pady = 20)\n",
    "    \n",
    "    myLabelCIFR = Label(root, text = '                                                       ',bg = 'plum').grid(row = 600, column = 400, padx = 20, pady = 20)\n",
    "    \n",
    "    IFR = Selected.at[clicked.get(),'IFR']\n",
    "    CMR = Selected.at[clicked.get(),'CMR']\n",
    "    \n",
    "def IFRS():\n",
    "    b = clicked.get()\n",
    "    Selected = FinalData.loc[[b]]\n",
    "    IFR = Selected.at[b,'IFR']\n",
    "    CMR = Selected.at[b,'CMR']\n",
    "    myLabelCIFR = Label(root, text = IFR,bg = 'plum').grid(row = 600, column = 400, padx = 20, pady = 20)\n",
    "    \n",
    "def CMRS():\n",
    "    b = clicked.get()\n",
    "    Selected = FinalData.loc[[b]]\n",
    "    IFR = Selected.at[b,'IFR']\n",
    "    CMR = Selected.at[b,'CMR']\n",
    "    myLabelCMR = Label(root, text = CMR,bg = 'plum').grid(row = 600, column = 400, padx = 20, pady = 20)\n",
    "    \n",
    "    \n",
    "LC = Label(text = ' CONFIRMED', fg= 'white',bg = '#999900').grid(row = 200, column = 100, padx = 20, pady = 20)    \n",
    "LCU = Label(text= ' CURED          ', fg= 'white',bg = '#228B22').grid(row = 300, column = 100, padx = 20, pady = 20)\n",
    "LD = Label(text = ' DEATHS        ', fg= 'white',bg = '#8B0000').grid(row = 400, column = 100, padx = 20, pady = 20)\n",
    "\n",
    "myLabelC1 = Label(root, text = '                                                       ',bg = 'yellow').grid(row = 200, column = 400, padx = 20, pady = 20)\n",
    "myLabelCU1 = Label(root, text = '                                                       ',bg = 'green').grid(row = 300, column = 400, padx = 20, pady = 20)\n",
    "myLabelD1 = Label(root, text = '                                                       ',bg = 'red').grid(row = 400, column = 400, padx = 20, pady = 20)\n",
    "\n",
    "Options = FinalData.index.values.tolist()\n",
    "clicked= StringVar()\n",
    "clicked.set('LIST OF STATES')\n",
    "L1 = Label(text = 'SELECT STATE', fg= 'white',bg = 'blue').grid(row = 100, column = 100, padx = 20, pady = 20)\n",
    "drop = OptionMenu(root, clicked, *Options, command=selected).grid(row = 100, column = 400, padx = 20, pady = 20)\n",
    "\n",
    "\n",
    "IfrB = Button(text = 'IFR',fg= 'white',bg = 'blue', command = IFRS).grid(row = 500, column = 100, padx = 20, pady = 20)\n",
    "CmrB = Button(text = 'CMR',fg= 'white',bg = 'blue', command = CMRS).grid(row = 500, column = 400, padx = 20, pady = 20)\n",
    "\n",
    "root.mainloop()"
   ]
  },
  {
   "cell_type": "code",
   "execution_count": null,
   "metadata": {},
   "outputs": [],
   "source": []
  },
  {
   "cell_type": "code",
   "execution_count": null,
   "metadata": {},
   "outputs": [],
   "source": []
  }
 ],
 "metadata": {
  "kernelspec": {
   "display_name": "Python 3",
   "language": "python",
   "name": "python3"
  },
  "language_info": {
   "codemirror_mode": {
    "name": "ipython",
    "version": 3
   },
   "file_extension": ".py",
   "mimetype": "text/x-python",
   "name": "python",
   "nbconvert_exporter": "python",
   "pygments_lexer": "ipython3",
   "version": "3.7.6"
  }
 },
 "nbformat": 4,
 "nbformat_minor": 4
}
