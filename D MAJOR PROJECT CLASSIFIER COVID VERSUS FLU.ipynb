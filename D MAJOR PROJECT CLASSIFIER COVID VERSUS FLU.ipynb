{
 "cells": [
  {
   "cell_type": "markdown",
   "metadata": {},
   "source": [
    "#  CLASSIFIER for severity gauging to Identify Highly Likely COVID CASES"
   ]
  },
  {
   "cell_type": "markdown",
   "metadata": {},
   "source": [
    "# BASIC MODEL"
   ]
  },
  {
   "cell_type": "code",
   "execution_count": 317,
   "metadata": {},
   "outputs": [
    {
     "data": {
      "text/html": [
       "<div>\n",
       "<style scoped>\n",
       "    .dataframe tbody tr th:only-of-type {\n",
       "        vertical-align: middle;\n",
       "    }\n",
       "\n",
       "    .dataframe tbody tr th {\n",
       "        vertical-align: top;\n",
       "    }\n",
       "\n",
       "    .dataframe thead th {\n",
       "        text-align: right;\n",
       "    }\n",
       "</style>\n",
       "<table border=\"1\" class=\"dataframe\">\n",
       "  <thead>\n",
       "    <tr style=\"text-align: right;\">\n",
       "      <th></th>\n",
       "      <th>Date</th>\n",
       "      <th>Time</th>\n",
       "      <th>State/UnionTerritory</th>\n",
       "      <th>ConfirmedIndianNational</th>\n",
       "      <th>Gender</th>\n",
       "      <th>ConfirmedForeignNational</th>\n",
       "      <th>Age</th>\n",
       "      <th>Serious_symptoms</th>\n",
       "      <th>Less_common_symptoms</th>\n",
       "      <th>Most_common_symptoms</th>\n",
       "      <th>Severity</th>\n",
       "      <th>Patient_Status</th>\n",
       "    </tr>\n",
       "  </thead>\n",
       "  <tbody>\n",
       "    <tr>\n",
       "      <th>0</th>\n",
       "      <td>30/01/20</td>\n",
       "      <td>6:00 PM</td>\n",
       "      <td>Kerala</td>\n",
       "      <td>1</td>\n",
       "      <td>Female</td>\n",
       "      <td>0</td>\n",
       "      <td>22</td>\n",
       "      <td>difficulty breathing or shortness of breath</td>\n",
       "      <td>headache</td>\n",
       "      <td>tiredness</td>\n",
       "      <td>Mild</td>\n",
       "      <td>Covid</td>\n",
       "    </tr>\n",
       "    <tr>\n",
       "      <th>1</th>\n",
       "      <td>31/01/20</td>\n",
       "      <td>6:00 PM</td>\n",
       "      <td>Kerala</td>\n",
       "      <td>1</td>\n",
       "      <td>Male</td>\n",
       "      <td>0</td>\n",
       "      <td>22</td>\n",
       "      <td>chest pain or pressure</td>\n",
       "      <td>sore throat</td>\n",
       "      <td>dry cough</td>\n",
       "      <td>Seviour</td>\n",
       "      <td>flu</td>\n",
       "    </tr>\n",
       "    <tr>\n",
       "      <th>2</th>\n",
       "      <td>1/2/2020</td>\n",
       "      <td>6:00 PM</td>\n",
       "      <td>Kerala</td>\n",
       "      <td>2</td>\n",
       "      <td>Male</td>\n",
       "      <td>0</td>\n",
       "      <td>100</td>\n",
       "      <td>loss of speech or movement</td>\n",
       "      <td>headache</td>\n",
       "      <td>dry cough</td>\n",
       "      <td>Mild</td>\n",
       "      <td>Covid</td>\n",
       "    </tr>\n",
       "    <tr>\n",
       "      <th>3</th>\n",
       "      <td>2/2/2020</td>\n",
       "      <td>6:00 PM</td>\n",
       "      <td>Kerala</td>\n",
       "      <td>3</td>\n",
       "      <td>Female</td>\n",
       "      <td>0</td>\n",
       "      <td>66</td>\n",
       "      <td>chest pain or pressure</td>\n",
       "      <td>headache</td>\n",
       "      <td>fever</td>\n",
       "      <td>Mild</td>\n",
       "      <td>Covid</td>\n",
       "    </tr>\n",
       "    <tr>\n",
       "      <th>4</th>\n",
       "      <td>3/2/2020</td>\n",
       "      <td>6:00 PM</td>\n",
       "      <td>Kerala</td>\n",
       "      <td>3</td>\n",
       "      <td>Male</td>\n",
       "      <td>0</td>\n",
       "      <td>45</td>\n",
       "      <td>chest pain or pressure</td>\n",
       "      <td>aches and pains</td>\n",
       "      <td>fever</td>\n",
       "      <td>Mild</td>\n",
       "      <td>flu</td>\n",
       "    </tr>\n",
       "  </tbody>\n",
       "</table>\n",
       "</div>"
      ],
      "text/plain": [
       "       Date     Time State/UnionTerritory ConfirmedIndianNational Gender   \\\n",
       "0  30/01/20  6:00 PM               Kerala                       1  Female   \n",
       "1  31/01/20  6:00 PM               Kerala                       1   Male    \n",
       "2  1/2/2020  6:00 PM               Kerala                       2   Male    \n",
       "3  2/2/2020  6:00 PM               Kerala                       3  Female   \n",
       "4  3/2/2020  6:00 PM               Kerala                       3   Male    \n",
       "\n",
       "  ConfirmedForeignNational  Age                             Serious_symptoms  \\\n",
       "0                        0   22  difficulty breathing or shortness of breath   \n",
       "1                        0   22                       chest pain or pressure   \n",
       "2                        0  100                   loss of speech or movement   \n",
       "3                        0   66                       chest pain or pressure   \n",
       "4                        0   45                       chest pain or pressure   \n",
       "\n",
       "  Less_common_symptoms Most_common_symptoms Severity Patient_Status  \n",
       "0             headache            tiredness     Mild          Covid  \n",
       "1          sore throat            dry cough  Seviour            flu  \n",
       "2             headache            dry cough     Mild          Covid  \n",
       "3             headache                fever     Mild          Covid  \n",
       "4      aches and pains                fever     Mild            flu  "
      ]
     },
     "execution_count": 317,
     "metadata": {},
     "output_type": "execute_result"
    }
   ],
   "source": [
    "import numpy as np\n",
    "import pandas as pd\n",
    "import pylab as pl\n",
    "import matplotlib.pyplot as plt \n",
    "%matplotlib inline\n",
    "#plt.style.use('seaborn')\n",
    "\n",
    "CovidCF = pd.read_csv(\"PAML_COVID_Dataset.csv\")\n",
    "CovidCF.head()"
   ]
  },
  {
   "cell_type": "code",
   "execution_count": 318,
   "metadata": {},
   "outputs": [],
   "source": [
    "CovidCLF = CovidCF[['Age','Serious_symptoms','Less_common_symptoms','Most_common_symptoms','Severity','Patient_Status']]"
   ]
  },
  {
   "cell_type": "code",
   "execution_count": 319,
   "metadata": {},
   "outputs": [
    {
     "data": {
      "text/plain": [
       "array(['difficulty breathing or shortness of breath',\n",
       "       'chest pain or pressure', 'loss of speech or movement'],\n",
       "      dtype=object)"
      ]
     },
     "execution_count": 319,
     "metadata": {},
     "output_type": "execute_result"
    }
   ],
   "source": [
    "SS = CovidCLF['Serious_symptoms'].unique()\n",
    "SS"
   ]
  },
  {
   "cell_type": "code",
   "execution_count": 320,
   "metadata": {},
   "outputs": [
    {
     "data": {
      "text/plain": [
       "array(['headache', 'sore throat', 'aches and pains', 'conjunctivitis',\n",
       "       'loss of taste or smell',\n",
       "       'a rash on skin, or discolouration of fingers or toes',\n",
       "       'diarrhoea'], dtype=object)"
      ]
     },
     "execution_count": 320,
     "metadata": {},
     "output_type": "execute_result"
    }
   ],
   "source": [
    "LCS = CovidCLF['Less_common_symptoms'].unique()\n",
    "LCS"
   ]
  },
  {
   "cell_type": "code",
   "execution_count": 321,
   "metadata": {},
   "outputs": [
    {
     "data": {
      "text/plain": [
       "array(['tiredness', 'dry cough', 'fever'], dtype=object)"
      ]
     },
     "execution_count": 321,
     "metadata": {},
     "output_type": "execute_result"
    }
   ],
   "source": [
    "MCS = CovidCLF['Most_common_symptoms'].unique()\n",
    "MCS"
   ]
  },
  {
   "cell_type": "code",
   "execution_count": 322,
   "metadata": {},
   "outputs": [
    {
     "data": {
      "text/plain": [
       "array(['Mild', 'Seviour', 'Moderate'], dtype=object)"
      ]
     },
     "execution_count": 322,
     "metadata": {},
     "output_type": "execute_result"
    }
   ],
   "source": [
    "SVT = CovidCLF['Severity'].unique()\n",
    "SVT"
   ]
  },
  {
   "cell_type": "code",
   "execution_count": 323,
   "metadata": {},
   "outputs": [
    {
     "data": {
      "text/plain": [
       "array(['Covid', 'flu'], dtype=object)"
      ]
     },
     "execution_count": 323,
     "metadata": {},
     "output_type": "execute_result"
    }
   ],
   "source": [
    "PST = CovidCLF['Patient_Status'].unique()\n",
    "PST"
   ]
  },
  {
   "cell_type": "code",
   "execution_count": 324,
   "metadata": {},
   "outputs": [],
   "source": [
    "def SSWT(Serious_symptoms):\n",
    "        return 1\n",
    "\n",
    "def LCSWT(Less_common_symptoms):\n",
    "        return 1\n",
    "\n",
    "def MCSWT(Most_common_symptoms):\n",
    "        return 1\n",
    "\n",
    "def SVTWT(Severity):\n",
    "    if Severity == 'Mild':\n",
    "        return 1\n",
    "    elif Severity == 'Moderate':\n",
    "        return 2\n",
    "    else:\n",
    "        return 3\n",
    "\n",
    "def PSCT(Patient_Status):\n",
    "    if Patient_Status == 'Covid':\n",
    "        return 1\n",
    "    else:\n",
    "        return 0\n",
    "    \n",
    "def AGEW(Age):\n",
    "    return Age\n"
   ]
  },
  {
   "cell_type": "code",
   "execution_count": 325,
   "metadata": {},
   "outputs": [
    {
     "data": {
      "text/html": [
       "<div>\n",
       "<style scoped>\n",
       "    .dataframe tbody tr th:only-of-type {\n",
       "        vertical-align: middle;\n",
       "    }\n",
       "\n",
       "    .dataframe tbody tr th {\n",
       "        vertical-align: top;\n",
       "    }\n",
       "\n",
       "    .dataframe thead th {\n",
       "        text-align: right;\n",
       "    }\n",
       "</style>\n",
       "<table border=\"1\" class=\"dataframe\">\n",
       "  <thead>\n",
       "    <tr style=\"text-align: right;\">\n",
       "      <th></th>\n",
       "      <th>Age</th>\n",
       "      <th>Serious_symptoms</th>\n",
       "      <th>Less_common_symptoms</th>\n",
       "      <th>Most_common_symptoms</th>\n",
       "      <th>Severity</th>\n",
       "      <th>Patient_Status</th>\n",
       "    </tr>\n",
       "  </thead>\n",
       "  <tbody>\n",
       "    <tr>\n",
       "      <th>0</th>\n",
       "      <td>22</td>\n",
       "      <td>difficulty breathing or shortness of breath</td>\n",
       "      <td>headache</td>\n",
       "      <td>tiredness</td>\n",
       "      <td>Mild</td>\n",
       "      <td>Covid</td>\n",
       "    </tr>\n",
       "    <tr>\n",
       "      <th>1</th>\n",
       "      <td>22</td>\n",
       "      <td>chest pain or pressure</td>\n",
       "      <td>sore throat</td>\n",
       "      <td>dry cough</td>\n",
       "      <td>Seviour</td>\n",
       "      <td>flu</td>\n",
       "    </tr>\n",
       "    <tr>\n",
       "      <th>2</th>\n",
       "      <td>100</td>\n",
       "      <td>loss of speech or movement</td>\n",
       "      <td>headache</td>\n",
       "      <td>dry cough</td>\n",
       "      <td>Mild</td>\n",
       "      <td>Covid</td>\n",
       "    </tr>\n",
       "    <tr>\n",
       "      <th>3</th>\n",
       "      <td>66</td>\n",
       "      <td>chest pain or pressure</td>\n",
       "      <td>headache</td>\n",
       "      <td>fever</td>\n",
       "      <td>Mild</td>\n",
       "      <td>Covid</td>\n",
       "    </tr>\n",
       "    <tr>\n",
       "      <th>4</th>\n",
       "      <td>45</td>\n",
       "      <td>chest pain or pressure</td>\n",
       "      <td>aches and pains</td>\n",
       "      <td>fever</td>\n",
       "      <td>Mild</td>\n",
       "      <td>flu</td>\n",
       "    </tr>\n",
       "    <tr>\n",
       "      <th>...</th>\n",
       "      <td>...</td>\n",
       "      <td>...</td>\n",
       "      <td>...</td>\n",
       "      <td>...</td>\n",
       "      <td>...</td>\n",
       "      <td>...</td>\n",
       "    </tr>\n",
       "    <tr>\n",
       "      <th>3130</th>\n",
       "      <td>61</td>\n",
       "      <td>difficulty breathing or shortness of breath</td>\n",
       "      <td>diarrhoea</td>\n",
       "      <td>dry cough</td>\n",
       "      <td>Moderate</td>\n",
       "      <td>Covid</td>\n",
       "    </tr>\n",
       "    <tr>\n",
       "      <th>3131</th>\n",
       "      <td>73</td>\n",
       "      <td>loss of speech or movement</td>\n",
       "      <td>aches and pains</td>\n",
       "      <td>dry cough</td>\n",
       "      <td>Moderate</td>\n",
       "      <td>flu</td>\n",
       "    </tr>\n",
       "    <tr>\n",
       "      <th>3132</th>\n",
       "      <td>89</td>\n",
       "      <td>difficulty breathing or shortness of breath</td>\n",
       "      <td>sore throat</td>\n",
       "      <td>fever</td>\n",
       "      <td>Mild</td>\n",
       "      <td>Covid</td>\n",
       "    </tr>\n",
       "    <tr>\n",
       "      <th>3133</th>\n",
       "      <td>35</td>\n",
       "      <td>loss of speech or movement</td>\n",
       "      <td>sore throat</td>\n",
       "      <td>dry cough</td>\n",
       "      <td>Moderate</td>\n",
       "      <td>Covid</td>\n",
       "    </tr>\n",
       "    <tr>\n",
       "      <th>3134</th>\n",
       "      <td>44</td>\n",
       "      <td>difficulty breathing or shortness of breath</td>\n",
       "      <td>conjunctivitis</td>\n",
       "      <td>fever</td>\n",
       "      <td>Mild</td>\n",
       "      <td>Covid</td>\n",
       "    </tr>\n",
       "  </tbody>\n",
       "</table>\n",
       "<p>3135 rows × 6 columns</p>\n",
       "</div>"
      ],
      "text/plain": [
       "      Age                             Serious_symptoms Less_common_symptoms  \\\n",
       "0      22  difficulty breathing or shortness of breath             headache   \n",
       "1      22                       chest pain or pressure          sore throat   \n",
       "2     100                   loss of speech or movement             headache   \n",
       "3      66                       chest pain or pressure             headache   \n",
       "4      45                       chest pain or pressure      aches and pains   \n",
       "...   ...                                          ...                  ...   \n",
       "3130   61  difficulty breathing or shortness of breath            diarrhoea   \n",
       "3131   73                   loss of speech or movement      aches and pains   \n",
       "3132   89  difficulty breathing or shortness of breath          sore throat   \n",
       "3133   35                   loss of speech or movement          sore throat   \n",
       "3134   44  difficulty breathing or shortness of breath       conjunctivitis   \n",
       "\n",
       "     Most_common_symptoms  Severity Patient_Status  \n",
       "0               tiredness      Mild          Covid  \n",
       "1               dry cough   Seviour            flu  \n",
       "2               dry cough      Mild          Covid  \n",
       "3                   fever      Mild          Covid  \n",
       "4                   fever      Mild            flu  \n",
       "...                   ...       ...            ...  \n",
       "3130            dry cough  Moderate          Covid  \n",
       "3131            dry cough  Moderate            flu  \n",
       "3132                fever      Mild          Covid  \n",
       "3133            dry cough  Moderate          Covid  \n",
       "3134                fever      Mild          Covid  \n",
       "\n",
       "[3135 rows x 6 columns]"
      ]
     },
     "execution_count": 325,
     "metadata": {},
     "output_type": "execute_result"
    }
   ],
   "source": [
    "CovidCLF"
   ]
  },
  {
   "cell_type": "code",
   "execution_count": 326,
   "metadata": {},
   "outputs": [
    {
     "data": {
      "text/html": [
       "<div>\n",
       "<style scoped>\n",
       "    .dataframe tbody tr th:only-of-type {\n",
       "        vertical-align: middle;\n",
       "    }\n",
       "\n",
       "    .dataframe tbody tr th {\n",
       "        vertical-align: top;\n",
       "    }\n",
       "\n",
       "    .dataframe thead th {\n",
       "        text-align: right;\n",
       "    }\n",
       "</style>\n",
       "<table border=\"1\" class=\"dataframe\">\n",
       "  <thead>\n",
       "    <tr style=\"text-align: right;\">\n",
       "      <th></th>\n",
       "      <th>AGEW1</th>\n",
       "      <th>SSWT1</th>\n",
       "      <th>LCSWT1</th>\n",
       "      <th>MCSWT1</th>\n",
       "      <th>SVTWT1</th>\n",
       "      <th>PSCT1</th>\n",
       "    </tr>\n",
       "  </thead>\n",
       "  <tbody>\n",
       "    <tr>\n",
       "      <th>0</th>\n",
       "      <td>22</td>\n",
       "      <td>1</td>\n",
       "      <td>1</td>\n",
       "      <td>1</td>\n",
       "      <td>1</td>\n",
       "      <td>1</td>\n",
       "    </tr>\n",
       "    <tr>\n",
       "      <th>1</th>\n",
       "      <td>22</td>\n",
       "      <td>1</td>\n",
       "      <td>1</td>\n",
       "      <td>1</td>\n",
       "      <td>3</td>\n",
       "      <td>0</td>\n",
       "    </tr>\n",
       "    <tr>\n",
       "      <th>2</th>\n",
       "      <td>100</td>\n",
       "      <td>1</td>\n",
       "      <td>1</td>\n",
       "      <td>1</td>\n",
       "      <td>1</td>\n",
       "      <td>1</td>\n",
       "    </tr>\n",
       "    <tr>\n",
       "      <th>3</th>\n",
       "      <td>66</td>\n",
       "      <td>1</td>\n",
       "      <td>1</td>\n",
       "      <td>1</td>\n",
       "      <td>1</td>\n",
       "      <td>1</td>\n",
       "    </tr>\n",
       "    <tr>\n",
       "      <th>4</th>\n",
       "      <td>45</td>\n",
       "      <td>1</td>\n",
       "      <td>1</td>\n",
       "      <td>1</td>\n",
       "      <td>1</td>\n",
       "      <td>0</td>\n",
       "    </tr>\n",
       "    <tr>\n",
       "      <th>...</th>\n",
       "      <td>...</td>\n",
       "      <td>...</td>\n",
       "      <td>...</td>\n",
       "      <td>...</td>\n",
       "      <td>...</td>\n",
       "      <td>...</td>\n",
       "    </tr>\n",
       "    <tr>\n",
       "      <th>3130</th>\n",
       "      <td>61</td>\n",
       "      <td>1</td>\n",
       "      <td>1</td>\n",
       "      <td>1</td>\n",
       "      <td>2</td>\n",
       "      <td>1</td>\n",
       "    </tr>\n",
       "    <tr>\n",
       "      <th>3131</th>\n",
       "      <td>73</td>\n",
       "      <td>1</td>\n",
       "      <td>1</td>\n",
       "      <td>1</td>\n",
       "      <td>2</td>\n",
       "      <td>0</td>\n",
       "    </tr>\n",
       "    <tr>\n",
       "      <th>3132</th>\n",
       "      <td>89</td>\n",
       "      <td>1</td>\n",
       "      <td>1</td>\n",
       "      <td>1</td>\n",
       "      <td>1</td>\n",
       "      <td>1</td>\n",
       "    </tr>\n",
       "    <tr>\n",
       "      <th>3133</th>\n",
       "      <td>35</td>\n",
       "      <td>1</td>\n",
       "      <td>1</td>\n",
       "      <td>1</td>\n",
       "      <td>2</td>\n",
       "      <td>1</td>\n",
       "    </tr>\n",
       "    <tr>\n",
       "      <th>3134</th>\n",
       "      <td>44</td>\n",
       "      <td>1</td>\n",
       "      <td>1</td>\n",
       "      <td>1</td>\n",
       "      <td>1</td>\n",
       "      <td>1</td>\n",
       "    </tr>\n",
       "  </tbody>\n",
       "</table>\n",
       "<p>3135 rows × 6 columns</p>\n",
       "</div>"
      ],
      "text/plain": [
       "      AGEW1  SSWT1  LCSWT1  MCSWT1  SVTWT1  PSCT1\n",
       "0        22      1       1       1       1      1\n",
       "1        22      1       1       1       3      0\n",
       "2       100      1       1       1       1      1\n",
       "3        66      1       1       1       1      1\n",
       "4        45      1       1       1       1      0\n",
       "...     ...    ...     ...     ...     ...    ...\n",
       "3130     61      1       1       1       2      1\n",
       "3131     73      1       1       1       2      0\n",
       "3132     89      1       1       1       1      1\n",
       "3133     35      1       1       1       2      1\n",
       "3134     44      1       1       1       1      1\n",
       "\n",
       "[3135 rows x 6 columns]"
      ]
     },
     "execution_count": 326,
     "metadata": {},
     "output_type": "execute_result"
    }
   ],
   "source": [
    "SSWT1 = CovidCLF['Serious_symptoms'].apply(SSWT).tolist()\n",
    "LCSWT1 = CovidCLF['Less_common_symptoms'].apply(LCSWT).tolist()\n",
    "MCSWT1 = CovidCLF['Most_common_symptoms'].apply(MCSWT).tolist()\n",
    "SVTWT1 = CovidCLF['Severity'].apply(SVTWT).tolist()\n",
    "PSCT1 = CovidCLF['Patient_Status'].apply(PSCT).tolist()\n",
    "\n",
    "AGEW1 = CovidCLF['Age'].apply(AGEW).tolist()\n",
    "\n",
    "SimCovid = pd.DataFrame(np.column_stack([AGEW1,SSWT1,LCSWT1,MCSWT1,SVTWT1,PSCT1]),\n",
    "                        columns=['AGEW1','SSWT1','LCSWT1','MCSWT1','SVTWT1','PSCT1'])\n",
    "SimCovid"
   ]
  },
  {
   "cell_type": "code",
   "execution_count": 327,
   "metadata": {},
   "outputs": [
    {
     "data": {
      "text/plain": [
       "(3135, 5)"
      ]
     },
     "execution_count": 327,
     "metadata": {},
     "output_type": "execute_result"
    }
   ],
   "source": [
    "Data = np.array([AGEW1,SSWT1,LCSWT1,MCSWT1,SVTWT1]).transpose()\n",
    "Data.shape"
   ]
  },
  {
   "cell_type": "code",
   "execution_count": 328,
   "metadata": {},
   "outputs": [
    {
     "data": {
      "text/plain": [
       "(3135,)"
      ]
     },
     "execution_count": 328,
     "metadata": {},
     "output_type": "execute_result"
    }
   ],
   "source": [
    "Target = np.array(PSCT1)\n",
    "Target.shape"
   ]
  },
  {
   "cell_type": "code",
   "execution_count": 329,
   "metadata": {},
   "outputs": [],
   "source": [
    "X = Data\n",
    "y = Target"
   ]
  },
  {
   "cell_type": "code",
   "execution_count": 330,
   "metadata": {},
   "outputs": [],
   "source": [
    "from sklearn.model_selection import train_test_split\n",
    "from sklearn.metrics import accuracy_score"
   ]
  },
  {
   "cell_type": "code",
   "execution_count": 331,
   "metadata": {},
   "outputs": [],
   "source": [
    "X_train, X_test, y_train, y_test =train_test_split(X, y, test_size=0.3,random_state=21, stratify=y)"
   ]
  },
  {
   "cell_type": "code",
   "execution_count": 332,
   "metadata": {},
   "outputs": [
    {
     "data": {
      "text/plain": [
       "(2194, 5)"
      ]
     },
     "execution_count": 332,
     "metadata": {},
     "output_type": "execute_result"
    }
   ],
   "source": [
    "X_train.shape"
   ]
  },
  {
   "cell_type": "code",
   "execution_count": 333,
   "metadata": {},
   "outputs": [
    {
     "data": {
      "text/plain": [
       "(941, 5)"
      ]
     },
     "execution_count": 333,
     "metadata": {},
     "output_type": "execute_result"
    }
   ],
   "source": [
    "X_test.shape"
   ]
  },
  {
   "cell_type": "code",
   "execution_count": 334,
   "metadata": {},
   "outputs": [],
   "source": [
    "from sklearn.neighbors import KNeighborsClassifier\n",
    "knn = KNeighborsClassifier(n_neighbors=3)"
   ]
  },
  {
   "cell_type": "code",
   "execution_count": 335,
   "metadata": {},
   "outputs": [
    {
     "data": {
      "text/plain": [
       "KNeighborsClassifier(n_neighbors=3)"
      ]
     },
     "execution_count": 335,
     "metadata": {},
     "output_type": "execute_result"
    }
   ],
   "source": [
    "knn.fit(X_train,y_train)"
   ]
  },
  {
   "cell_type": "code",
   "execution_count": 336,
   "metadata": {},
   "outputs": [
    {
     "name": "stdout",
     "output_type": "stream",
     "text": [
      "[0 1 1 0 1 0 1 1 1 1 1 0 0 0 1 1 0 0 0 0 1 0 0 0 0 0 1 1 1 0 0 0 0 0 0 1 0\n",
      " 0 1 1 0 1 0 0 1 0 1 0 0 0 0 0 0 1 1 1 0 0 0 0 0 1 1 0 0 1 1 0 0 0 1 0 1 0\n",
      " 1 0 0 1 0 0 1 1 0 0 0 1 1 1 0 1 0 0 0 0 0 1 0 1 0 1 1 0 0 0 0 0 0 1 1 0 1\n",
      " 1 1 1 1 0 1 0 1 1 0 0 0 1 0 0 0 0 1 1 0 1 1 0 1 1 0 0 1 0 0 0 0 1 1 0 0 1\n",
      " 0 1 0 1 1 0 0 0 1 0 1 0 1 0 1 1 0 0 0 1 1 1 1 0 1 0 0 1 0 0 0 1 0 1 0 0 0\n",
      " 0 1 1 0 0 1 1 0 1 0 0 1 0 0 1 0 1 0 0 0 0 0 1 1 0 1 0 0 1 0 1 1 1 0 1 1 0\n",
      " 1 1 1 0 1 0 1 0 0 0 0 0 1 1 1 1 1 1 0 1 0 0 0 1 1 1 0 0 0 0 0 0 1 0 0 0 0\n",
      " 1 0 1 1 1 0 0 0 0 1 0 1 0 0 0 1 1 1 1 0 1 0 1 1 0 0 0 0 0 1 0 0 0 0 0 0 1\n",
      " 0 0 0 1 1 0 0 0 0 0 1 0 1 0 1 1 0 0 0 1 1 0 1 1 1 0 1 1 1 1 1 1 0 1 0 0 1\n",
      " 0 1 0 1 0 0 1 1 1 0 1 0 0 1 0 0 0 0 0 0 1 1 1 0 1 1 1 1 1 0 0 0 0 1 0 0 0\n",
      " 0 0 0 1 0 0 0 1 1 0 1 1 0 0 0 0 0 1 1 1 0 0 0 1 1 0 1 1 0 0 0 1 0 1 1 1 0\n",
      " 0 1 0 0 1 1 1 1 1 0 1 0 1 1 0 0 0 1 0 1 1 1 1 1 1 0 0 1 0 1 0 1 0 1 0 1 0\n",
      " 1 1 0 0 1 1 1 0 1 0 0 1 1 0 0 0 1 0 1 1 1 0 0 0 1 0 1 0 1 1 0 1 0 0 0 1 0\n",
      " 0 0 0 0 0 1 0 1 1 0 0 1 1 1 1 1 0 0 1 1 0 1 0 1 0 1 1 1 1 1 0 1 0 1 1 0 0\n",
      " 0 0 0 0 0 1 0 0 0 1 0 1 0 0 1 0 1 1 1 1 0 1 1 1 1 0 1 0 1 1 0 0 0 0 0 1 0\n",
      " 0 1 1 1 1 0 1 1 1 0 0 1 1 0 0 0 0 1 0 0 1 1 0 1 1 0 1 0 0 0 1 1 1 1 1 0 0\n",
      " 0 0 1 1 0 0 0 1 0 0 1 1 1 1 0 1 0 1 1 1 0 0 1 1 1 1 1 0 1 1 0 1 1 0 0 0 1\n",
      " 0 0 0 0 1 1 0 0 1 0 1 1 0 1 1 1 1 1 0 0 1 1 0 1 1 0 1 1 1 0 0 1 0 0 1 0 0\n",
      " 1 1 1 1 0 1 1 1 0 0 1 0 0 0 0 1 1 1 0 1 0 1 1 0 1 0 0 1 1 1 1 0 0 0 0 1 1\n",
      " 1 0 1 1 1 0 0 0 0 0 0 0 0 0 0 0 0 0 1 1 0 0 1 1 1 1 1 0 1 1 0 1 0 0 0 1 0\n",
      " 0 1 1 1 1 0 1 1 1 1 0 1 1 0 1 0 0 1 0 0 1 0 1 1 0 0 0 1 1 0 0 1 0 1 0 0 0\n",
      " 0 1 1 0 1 0 0 0 1 0 0 1 1 1 0 1 0 0 0 0 0 1 0 0 1 0 0 0 1 0 0 1 1 1 0 1 1\n",
      " 1 1 1 0 0 0 0 1 0 0 0 0 0 0 0 0 0 0 0 1 0 1 0 1 0 1 1 0 0 1 1 1 0 1 1 0 1\n",
      " 1 1 1 1 1 0 0 1 1 1 1 0 0 0 0 0 0 0 1 0 1 0 1 0 0 0 1 0 0 1 0 0 1 0 0 1 0\n",
      " 1 1 0 0 1 1 0 1 0 1 0 0 0 0 0 1 0 0 0 0 1 0 0 1 1 0 0 1 0 0 1 1 1 0 1 0 0\n",
      " 0 0 1 1 1 1 0 0 1 0 0 0 1 0 0 0]\n"
     ]
    }
   ],
   "source": [
    "y_pred = knn.predict(X_test)\n",
    "print(y_pred)"
   ]
  },
  {
   "cell_type": "code",
   "execution_count": 337,
   "metadata": {},
   "outputs": [
    {
     "data": {
      "text/plain": [
       "0.4824654622741764"
      ]
     },
     "execution_count": 337,
     "metadata": {},
     "output_type": "execute_result"
    }
   ],
   "source": [
    " accuracy_score(y_test, y_pred)"
   ]
  },
  {
   "cell_type": "markdown",
   "metadata": {},
   "source": [
    "# ENHANCING THE MODEL"
   ]
  },
  {
   "cell_type": "code",
   "execution_count": 338,
   "metadata": {},
   "outputs": [
    {
     "data": {
      "text/html": [
       "<div>\n",
       "<style scoped>\n",
       "    .dataframe tbody tr th:only-of-type {\n",
       "        vertical-align: middle;\n",
       "    }\n",
       "\n",
       "    .dataframe tbody tr th {\n",
       "        vertical-align: top;\n",
       "    }\n",
       "\n",
       "    .dataframe thead th {\n",
       "        text-align: right;\n",
       "    }\n",
       "</style>\n",
       "<table border=\"1\" class=\"dataframe\">\n",
       "  <thead>\n",
       "    <tr style=\"text-align: right;\">\n",
       "      <th></th>\n",
       "      <th>Age</th>\n",
       "      <th>Serious_symptoms</th>\n",
       "      <th>Less_common_symptoms</th>\n",
       "      <th>Most_common_symptoms</th>\n",
       "      <th>Severity</th>\n",
       "      <th>Patient_Status</th>\n",
       "    </tr>\n",
       "  </thead>\n",
       "  <tbody>\n",
       "    <tr>\n",
       "      <th>0</th>\n",
       "      <td>22</td>\n",
       "      <td>difficulty breathing or shortness of breath</td>\n",
       "      <td>headache</td>\n",
       "      <td>tiredness</td>\n",
       "      <td>Mild</td>\n",
       "      <td>Covid</td>\n",
       "    </tr>\n",
       "    <tr>\n",
       "      <th>1</th>\n",
       "      <td>22</td>\n",
       "      <td>chest pain or pressure</td>\n",
       "      <td>sore throat</td>\n",
       "      <td>dry cough</td>\n",
       "      <td>Seviour</td>\n",
       "      <td>flu</td>\n",
       "    </tr>\n",
       "    <tr>\n",
       "      <th>2</th>\n",
       "      <td>100</td>\n",
       "      <td>loss of speech or movement</td>\n",
       "      <td>headache</td>\n",
       "      <td>dry cough</td>\n",
       "      <td>Mild</td>\n",
       "      <td>Covid</td>\n",
       "    </tr>\n",
       "    <tr>\n",
       "      <th>3</th>\n",
       "      <td>66</td>\n",
       "      <td>chest pain or pressure</td>\n",
       "      <td>headache</td>\n",
       "      <td>fever</td>\n",
       "      <td>Mild</td>\n",
       "      <td>Covid</td>\n",
       "    </tr>\n",
       "    <tr>\n",
       "      <th>4</th>\n",
       "      <td>45</td>\n",
       "      <td>chest pain or pressure</td>\n",
       "      <td>aches and pains</td>\n",
       "      <td>fever</td>\n",
       "      <td>Mild</td>\n",
       "      <td>flu</td>\n",
       "    </tr>\n",
       "  </tbody>\n",
       "</table>\n",
       "</div>"
      ],
      "text/plain": [
       "   Age                             Serious_symptoms Less_common_symptoms  \\\n",
       "0   22  difficulty breathing or shortness of breath             headache   \n",
       "1   22                       chest pain or pressure          sore throat   \n",
       "2  100                   loss of speech or movement             headache   \n",
       "3   66                       chest pain or pressure             headache   \n",
       "4   45                       chest pain or pressure      aches and pains   \n",
       "\n",
       "  Most_common_symptoms Severity Patient_Status  \n",
       "0            tiredness     Mild          Covid  \n",
       "1            dry cough  Seviour            flu  \n",
       "2            dry cough     Mild          Covid  \n",
       "3                fever     Mild          Covid  \n",
       "4                fever     Mild            flu  "
      ]
     },
     "execution_count": 338,
     "metadata": {},
     "output_type": "execute_result"
    }
   ],
   "source": [
    "CovidCLF.head()"
   ]
  },
  {
   "cell_type": "code",
   "execution_count": 339,
   "metadata": {},
   "outputs": [],
   "source": [
    "def XAGE(Age):\n",
    "    if(0<= Age <=20):\n",
    "        return 'G0'\n",
    "    elif(20< Age <=40):\n",
    "        return 'G1'\n",
    "    elif(40< Age <=60):\n",
    "        return 'G2'\n",
    "    elif(60< Age <=80):\n",
    "        return 'G3'\n",
    "    else:\n",
    "        return 'G4'\n"
   ]
  },
  {
   "cell_type": "code",
   "execution_count": 340,
   "metadata": {},
   "outputs": [
    {
     "name": "stderr",
     "output_type": "stream",
     "text": [
      "C:\\Users\\SUDIP SINGH\\anaconda3\\lib\\site-packages\\ipykernel_launcher.py:1: SettingWithCopyWarning:\n",
      "\n",
      "\n",
      "A value is trying to be set on a copy of a slice from a DataFrame.\n",
      "Try using .loc[row_indexer,col_indexer] = value instead\n",
      "\n",
      "See the caveats in the documentation: https://pandas.pydata.org/pandas-docs/stable/user_guide/indexing.html#returning-a-view-versus-a-copy\n",
      "\n"
     ]
    }
   ],
   "source": [
    "CovidCLF['XAge'] = CovidCLF['Age'].apply(XAGE)"
   ]
  },
  {
   "cell_type": "code",
   "execution_count": 341,
   "metadata": {},
   "outputs": [
    {
     "data": {
      "text/html": [
       "<div>\n",
       "<style scoped>\n",
       "    .dataframe tbody tr th:only-of-type {\n",
       "        vertical-align: middle;\n",
       "    }\n",
       "\n",
       "    .dataframe tbody tr th {\n",
       "        vertical-align: top;\n",
       "    }\n",
       "\n",
       "    .dataframe thead th {\n",
       "        text-align: right;\n",
       "    }\n",
       "</style>\n",
       "<table border=\"1\" class=\"dataframe\">\n",
       "  <thead>\n",
       "    <tr style=\"text-align: right;\">\n",
       "      <th></th>\n",
       "      <th>Age</th>\n",
       "      <th>Serious_symptoms</th>\n",
       "      <th>Less_common_symptoms</th>\n",
       "      <th>Most_common_symptoms</th>\n",
       "      <th>Severity</th>\n",
       "      <th>Patient_Status</th>\n",
       "      <th>XAge</th>\n",
       "    </tr>\n",
       "  </thead>\n",
       "  <tbody>\n",
       "    <tr>\n",
       "      <th>0</th>\n",
       "      <td>22</td>\n",
       "      <td>difficulty breathing or shortness of breath</td>\n",
       "      <td>headache</td>\n",
       "      <td>tiredness</td>\n",
       "      <td>Mild</td>\n",
       "      <td>Covid</td>\n",
       "      <td>G1</td>\n",
       "    </tr>\n",
       "    <tr>\n",
       "      <th>1</th>\n",
       "      <td>22</td>\n",
       "      <td>chest pain or pressure</td>\n",
       "      <td>sore throat</td>\n",
       "      <td>dry cough</td>\n",
       "      <td>Seviour</td>\n",
       "      <td>flu</td>\n",
       "      <td>G1</td>\n",
       "    </tr>\n",
       "    <tr>\n",
       "      <th>2</th>\n",
       "      <td>100</td>\n",
       "      <td>loss of speech or movement</td>\n",
       "      <td>headache</td>\n",
       "      <td>dry cough</td>\n",
       "      <td>Mild</td>\n",
       "      <td>Covid</td>\n",
       "      <td>G4</td>\n",
       "    </tr>\n",
       "    <tr>\n",
       "      <th>3</th>\n",
       "      <td>66</td>\n",
       "      <td>chest pain or pressure</td>\n",
       "      <td>headache</td>\n",
       "      <td>fever</td>\n",
       "      <td>Mild</td>\n",
       "      <td>Covid</td>\n",
       "      <td>G3</td>\n",
       "    </tr>\n",
       "    <tr>\n",
       "      <th>4</th>\n",
       "      <td>45</td>\n",
       "      <td>chest pain or pressure</td>\n",
       "      <td>aches and pains</td>\n",
       "      <td>fever</td>\n",
       "      <td>Mild</td>\n",
       "      <td>flu</td>\n",
       "      <td>G2</td>\n",
       "    </tr>\n",
       "  </tbody>\n",
       "</table>\n",
       "</div>"
      ],
      "text/plain": [
       "   Age                             Serious_symptoms Less_common_symptoms  \\\n",
       "0   22  difficulty breathing or shortness of breath             headache   \n",
       "1   22                       chest pain or pressure          sore throat   \n",
       "2  100                   loss of speech or movement             headache   \n",
       "3   66                       chest pain or pressure             headache   \n",
       "4   45                       chest pain or pressure      aches and pains   \n",
       "\n",
       "  Most_common_symptoms Severity Patient_Status XAge  \n",
       "0            tiredness     Mild          Covid   G1  \n",
       "1            dry cough  Seviour            flu   G1  \n",
       "2            dry cough     Mild          Covid   G4  \n",
       "3                fever     Mild          Covid   G3  \n",
       "4                fever     Mild            flu   G2  "
      ]
     },
     "execution_count": 341,
     "metadata": {},
     "output_type": "execute_result"
    }
   ],
   "source": [
    "CovidCLF.head()"
   ]
  },
  {
   "cell_type": "code",
   "execution_count": 342,
   "metadata": {},
   "outputs": [],
   "source": [
    "Covid = CovidCLF[CovidCLF['Patient_Status'] == 'Covid']"
   ]
  },
  {
   "cell_type": "code",
   "execution_count": 343,
   "metadata": {},
   "outputs": [
    {
     "data": {
      "text/html": [
       "<div>\n",
       "<style scoped>\n",
       "    .dataframe tbody tr th:only-of-type {\n",
       "        vertical-align: middle;\n",
       "    }\n",
       "\n",
       "    .dataframe tbody tr th {\n",
       "        vertical-align: top;\n",
       "    }\n",
       "\n",
       "    .dataframe thead th {\n",
       "        text-align: right;\n",
       "    }\n",
       "</style>\n",
       "<table border=\"1\" class=\"dataframe\">\n",
       "  <thead>\n",
       "    <tr style=\"text-align: right;\">\n",
       "      <th></th>\n",
       "      <th>Age</th>\n",
       "      <th>Serious_symptoms</th>\n",
       "      <th>Less_common_symptoms</th>\n",
       "      <th>Most_common_symptoms</th>\n",
       "      <th>Severity</th>\n",
       "      <th>Patient_Status</th>\n",
       "      <th>XAge</th>\n",
       "    </tr>\n",
       "  </thead>\n",
       "  <tbody>\n",
       "    <tr>\n",
       "      <th>0</th>\n",
       "      <td>22</td>\n",
       "      <td>difficulty breathing or shortness of breath</td>\n",
       "      <td>headache</td>\n",
       "      <td>tiredness</td>\n",
       "      <td>Mild</td>\n",
       "      <td>Covid</td>\n",
       "      <td>G1</td>\n",
       "    </tr>\n",
       "    <tr>\n",
       "      <th>2</th>\n",
       "      <td>100</td>\n",
       "      <td>loss of speech or movement</td>\n",
       "      <td>headache</td>\n",
       "      <td>dry cough</td>\n",
       "      <td>Mild</td>\n",
       "      <td>Covid</td>\n",
       "      <td>G4</td>\n",
       "    </tr>\n",
       "    <tr>\n",
       "      <th>3</th>\n",
       "      <td>66</td>\n",
       "      <td>chest pain or pressure</td>\n",
       "      <td>headache</td>\n",
       "      <td>fever</td>\n",
       "      <td>Mild</td>\n",
       "      <td>Covid</td>\n",
       "      <td>G3</td>\n",
       "    </tr>\n",
       "    <tr>\n",
       "      <th>11</th>\n",
       "      <td>39</td>\n",
       "      <td>chest pain or pressure</td>\n",
       "      <td>headache</td>\n",
       "      <td>dry cough</td>\n",
       "      <td>Moderate</td>\n",
       "      <td>Covid</td>\n",
       "      <td>G1</td>\n",
       "    </tr>\n",
       "    <tr>\n",
       "      <th>12</th>\n",
       "      <td>14</td>\n",
       "      <td>chest pain or pressure</td>\n",
       "      <td>aches and pains</td>\n",
       "      <td>dry cough</td>\n",
       "      <td>Seviour</td>\n",
       "      <td>Covid</td>\n",
       "      <td>G0</td>\n",
       "    </tr>\n",
       "  </tbody>\n",
       "</table>\n",
       "</div>"
      ],
      "text/plain": [
       "    Age                             Serious_symptoms Less_common_symptoms  \\\n",
       "0    22  difficulty breathing or shortness of breath             headache   \n",
       "2   100                   loss of speech or movement             headache   \n",
       "3    66                       chest pain or pressure             headache   \n",
       "11   39                       chest pain or pressure             headache   \n",
       "12   14                       chest pain or pressure      aches and pains   \n",
       "\n",
       "   Most_common_symptoms  Severity Patient_Status XAge  \n",
       "0             tiredness      Mild          Covid   G1  \n",
       "2             dry cough      Mild          Covid   G4  \n",
       "3                 fever      Mild          Covid   G3  \n",
       "11            dry cough  Moderate          Covid   G1  \n",
       "12            dry cough   Seviour          Covid   G0  "
      ]
     },
     "execution_count": 343,
     "metadata": {},
     "output_type": "execute_result"
    }
   ],
   "source": [
    "Covid.head()"
   ]
  },
  {
   "cell_type": "code",
   "execution_count": 344,
   "metadata": {
    "scrolled": false
   },
   "outputs": [
    {
     "name": "stdout",
     "output_type": "stream",
     "text": [
      "chest pain or pressure                         0.173206\n",
      "difficulty breathing or shortness of breath    0.171930\n",
      "loss of speech or movement                     0.156300\n",
      "Name: Serious_symptoms, dtype: float64\n"
     ]
    },
    {
     "data": {
      "image/png": "[encoded data removed]",
      "text/plain": [
       "<Figure size 432x288 with 1 Axes>"
      ]
     },
     "metadata": {
      "needs_background": "light"
     },
     "output_type": "display_data"
    },
    {
     "name": "stdout",
     "output_type": "stream",
     "text": [
      "chest pain or pressure                         0.519617\n",
      "difficulty breathing or shortness of breath    0.515789\n",
      "loss of speech or movement                     0.468900\n",
      "Name: Serious_symptoms, dtype: float64\n"
     ]
    }
   ],
   "source": [
    "SSWT2 = Covid['Serious_symptoms'].value_counts()/len(CovidCLF)\n",
    "print(SSWT2)\n",
    "SSWT2.plot(kind = 'barh', color = 'red', title = 'Serious_symptoms: Proportion of Positive Covid Cases: To be multiplied by 3')\n",
    "plt.show()\n",
    "WMSSWT2 = SSWT2*3\n",
    "print(WMSSWT2)"
   ]
  },
  {
   "cell_type": "code",
   "execution_count": 345,
   "metadata": {},
   "outputs": [],
   "source": [
    "def SSWTX(Serious_symptoms):\n",
    "    if Serious_symptoms == 'chest pain or pressure':\n",
    "        return 3*0.173206\n",
    "    elif Serious_symptoms == 'difficulty breathing or shortness of breath':\n",
    "        return 3*0.171930\n",
    "    elif Serious_symptoms == 'loss of speech or movement':\n",
    "        return 3*0.156300\n",
    "    else:\n",
    "        return 0"
   ]
  },
  {
   "cell_type": "code",
   "execution_count": 346,
   "metadata": {},
   "outputs": [
    {
     "name": "stdout",
     "output_type": "stream",
     "text": [
      "sore throat                                             0.078150\n",
      "diarrhoea                                               0.077831\n",
      "a rash on skin, or discolouration of fingers or toes    0.074003\n",
      "aches and pains                                         0.070494\n",
      "conjunctivitis                                          0.070175\n",
      "headache                                                0.069219\n",
      "loss of taste or smell                                  0.061563\n",
      "Name: Less_common_symptoms, dtype: float64\n"
     ]
    },
    {
     "data": {
      "image/png": "[encoded data removed]",
      "text/plain": [
       "<Figure size 432x288 with 1 Axes>"
      ]
     },
     "metadata": {
      "needs_background": "light"
     },
     "output_type": "display_data"
    },
    {
     "name": "stdout",
     "output_type": "stream",
     "text": [
      "sore throat                                             0.078150\n",
      "diarrhoea                                               0.077831\n",
      "a rash on skin, or discolouration of fingers or toes    0.074003\n",
      "aches and pains                                         0.070494\n",
      "conjunctivitis                                          0.070175\n",
      "headache                                                0.069219\n",
      "loss of taste or smell                                  0.061563\n",
      "Name: Less_common_symptoms, dtype: float64\n"
     ]
    }
   ],
   "source": [
    "LCSWT2 = Covid['Less_common_symptoms'].value_counts()/len(CovidCLF)\n",
    "print(LCSWT2)\n",
    "LCSWT2.plot(kind='barh', color = 'yellow', title = 'Less_common_symptoms: Proportion of Positive Covid Cases: To be Multiplied by 1')\n",
    "plt.show()\n",
    "WMLCSWT2 = LCSWT2*1\n",
    "print(WMLCSWT2)"
   ]
  },
  {
   "cell_type": "code",
   "execution_count": 347,
   "metadata": {},
   "outputs": [],
   "source": [
    "def LCSWTX(Less_common_symptoms):\n",
    "    if Less_common_symptoms == 'sore throat':\n",
    "        return 1*0.078150\n",
    "    elif Less_common_symptoms == 'diarrhoea':\n",
    "        return 1*0.077831\n",
    "    elif Less_common_symptoms == 'a rash on skin, or discolouration of fingers or toes':\n",
    "        return 1*0.074003\n",
    "    elif Less_common_symptoms == 'aches and pains':\n",
    "        return 1*0.070494\n",
    "    elif Less_common_symptoms == 'conjunctivitis':\n",
    "        return 1*0.070175\n",
    "    elif Less_common_symptoms == 'headache':\n",
    "        return 1*0.069219\n",
    "    elif Less_common_symptoms == 'loss of taste or smell':\n",
    "        return 1*0.061563\n",
    "    else:\n",
    "        return 0"
   ]
  },
  {
   "cell_type": "code",
   "execution_count": 348,
   "metadata": {},
   "outputs": [
    {
     "name": "stdout",
     "output_type": "stream",
     "text": [
      "fever        0.174482\n",
      "tiredness    0.164274\n",
      "dry cough    0.162679\n",
      "Name: Most_common_symptoms, dtype: float64\n"
     ]
    },
    {
     "data": {
      "image/png": "[encoded data removed]",
      "text/plain": [
       "<Figure size 432x288 with 1 Axes>"
      ]
     },
     "metadata": {
      "needs_background": "light"
     },
     "output_type": "display_data"
    },
    {
     "name": "stdout",
     "output_type": "stream",
     "text": [
      "fever        0.348963\n",
      "tiredness    0.328549\n",
      "dry cough    0.325359\n",
      "Name: Most_common_symptoms, dtype: float64\n"
     ]
    }
   ],
   "source": [
    "MCSWT2 = Covid['Most_common_symptoms'].value_counts()/len(CovidCLF)\n",
    "print(MCSWT2)\n",
    "MCSWT2.plot(kind='barh', color = 'orange',title = 'Most_common_symptoms :Proportion of Positive Covid Cases: To be Multiplied by 2')\n",
    "plt.show()\n",
    "WMMCSWT2 = MCSWT2*2\n",
    "print(WMMCSWT2)"
   ]
  },
  {
   "cell_type": "code",
   "execution_count": 349,
   "metadata": {},
   "outputs": [],
   "source": [
    "def MCSWTX(Most_common_symptoms):\n",
    "    if Most_common_symptoms == 'fever':\n",
    "        return 2*0.174482\n",
    "    elif Most_common_symptoms == 'tiredness':\n",
    "        return 2*0.164274\n",
    "    elif Most_common_symptoms == 'dry cough':\n",
    "        return 2*0.162679\n",
    "    else:\n",
    "        return 0"
   ]
  },
  {
   "cell_type": "code",
   "execution_count": 350,
   "metadata": {},
   "outputs": [
    {
     "name": "stdout",
     "output_type": "stream",
     "text": [
      "Seviour     0.171930\n",
      "Mild        0.170973\n",
      "Moderate    0.158533\n",
      "Name: Severity, dtype: float64\n"
     ]
    },
    {
     "data": {
      "image/png": "[encoded data removed]",
      "text/plain": [
       "<Figure size 432x288 with 1 Axes>"
      ]
     },
     "metadata": {
      "needs_background": "light"
     },
     "output_type": "display_data"
    },
    {
     "name": "stdout",
     "output_type": "stream",
     "text": [
      "Seviour     0.515789\n",
      "Mild        0.170973\n",
      "Moderate    0.317065\n",
      "Name: Severity, dtype: float64\n"
     ]
    }
   ],
   "source": [
    "SVTWT2 = Covid['Severity'].value_counts()/len(CovidCLF)\n",
    "print(SVTWT2)\n",
    "SVTWT2.plot(kind='barh', color = 'brown',title = 'Severity :Proportion of Positive Covid Cases:Seviour to be Mult. by 3, Mild by 1 & Moderate by 2' )\n",
    "plt.show()\n",
    "WEIGHT = [3,1,2]\n",
    "WMSVTWT2 = SVTWT2*WEIGHT\n",
    "print(WMSVTWT2)"
   ]
  },
  {
   "cell_type": "code",
   "execution_count": 351,
   "metadata": {},
   "outputs": [],
   "source": [
    "def SVTWTX(Severity):\n",
    "    if Severity == 'Seviour':\n",
    "        return 3*0.171930\n",
    "    elif Severity == 'Mild':\n",
    "        return 1*0.170973\n",
    "    elif Severity == 'Moderate':\n",
    "        return 2*0.158533\n",
    "    else:\n",
    "        return 0"
   ]
  },
  {
   "cell_type": "code",
   "execution_count": 352,
   "metadata": {},
   "outputs": [],
   "source": [
    "def PSCTX(Patient_Status):\n",
    "    if Patient_Status == 'Covid':\n",
    "        return 1\n",
    "    else:\n",
    "        return 0"
   ]
  },
  {
   "cell_type": "code",
   "execution_count": 353,
   "metadata": {},
   "outputs": [
    {
     "name": "stdout",
     "output_type": "stream",
     "text": [
      "G1    0.115470\n",
      "G4    0.111643\n",
      "G2    0.096651\n",
      "G3    0.093461\n",
      "G0    0.084211\n",
      "Name: XAge, dtype: float64\n"
     ]
    },
    {
     "data": {
      "image/png": "[encoded data removed]",
      "text/plain": [
       "<Figure size 432x288 with 1 Axes>"
      ]
     },
     "metadata": {
      "needs_background": "light"
     },
     "output_type": "display_data"
    },
    {
     "name": "stdout",
     "output_type": "stream",
     "text": [
      "G1    0.115470\n",
      "G4    0.111643\n",
      "G2    0.096651\n",
      "G3    0.093461\n",
      "G0    0.084211\n",
      "Name: XAge, dtype: float64\n"
     ]
    }
   ],
   "source": [
    "XAGEWT2 = Covid['XAge'].value_counts()/len(CovidCLF)\n",
    "print(XAGEWT2)\n",
    "XAGEWT2.plot(kind='barh', color = 'brown',title = 'Age BINS of Size 20 :Proportion of Positive Covid Cases' )\n",
    "plt.show()\n",
    "WMXAGEWT2 = XAGEWT2*1\n",
    "print(WMXAGEWT2)"
   ]
  },
  {
   "cell_type": "code",
   "execution_count": 354,
   "metadata": {},
   "outputs": [],
   "source": [
    "def XAGEWX(XAge):\n",
    "    if XAge == 'G1':\n",
    "        return 2*0.115470\n",
    "    elif XAge == 'G4':\n",
    "        return 5*0.111643\n",
    "    elif XAge == 'G2':\n",
    "        return 3*0.096651\n",
    "    elif XAge == 'G3':\n",
    "        return 4*0.093461\n",
    "    elif XAge == 'G0':\n",
    "        return 1*0.084211\n",
    "    else:\n",
    "        return 0"
   ]
  },
  {
   "cell_type": "code",
   "execution_count": 355,
   "metadata": {},
   "outputs": [
    {
     "data": {
      "text/html": [
       "<div>\n",
       "<style scoped>\n",
       "    .dataframe tbody tr th:only-of-type {\n",
       "        vertical-align: middle;\n",
       "    }\n",
       "\n",
       "    .dataframe tbody tr th {\n",
       "        vertical-align: top;\n",
       "    }\n",
       "\n",
       "    .dataframe thead th {\n",
       "        text-align: right;\n",
       "    }\n",
       "</style>\n",
       "<table border=\"1\" class=\"dataframe\">\n",
       "  <thead>\n",
       "    <tr style=\"text-align: right;\">\n",
       "      <th></th>\n",
       "      <th>XAGEWX1</th>\n",
       "      <th>SSWTX1</th>\n",
       "      <th>LCSWTX1</th>\n",
       "      <th>MCSWTX1</th>\n",
       "      <th>SVTWTX1</th>\n",
       "      <th>PSCTX1</th>\n",
       "    </tr>\n",
       "  </thead>\n",
       "  <tbody>\n",
       "    <tr>\n",
       "      <th>0</th>\n",
       "      <td>0.230940</td>\n",
       "      <td>0.515790</td>\n",
       "      <td>0.069219</td>\n",
       "      <td>0.328548</td>\n",
       "      <td>0.170973</td>\n",
       "      <td>1.0</td>\n",
       "    </tr>\n",
       "    <tr>\n",
       "      <th>1</th>\n",
       "      <td>0.230940</td>\n",
       "      <td>0.519618</td>\n",
       "      <td>0.078150</td>\n",
       "      <td>0.325358</td>\n",
       "      <td>0.515790</td>\n",
       "      <td>0.0</td>\n",
       "    </tr>\n",
       "    <tr>\n",
       "      <th>2</th>\n",
       "      <td>0.558215</td>\n",
       "      <td>0.468900</td>\n",
       "      <td>0.069219</td>\n",
       "      <td>0.325358</td>\n",
       "      <td>0.170973</td>\n",
       "      <td>1.0</td>\n",
       "    </tr>\n",
       "    <tr>\n",
       "      <th>3</th>\n",
       "      <td>0.373844</td>\n",
       "      <td>0.519618</td>\n",
       "      <td>0.069219</td>\n",
       "      <td>0.348964</td>\n",
       "      <td>0.170973</td>\n",
       "      <td>1.0</td>\n",
       "    </tr>\n",
       "    <tr>\n",
       "      <th>4</th>\n",
       "      <td>0.289953</td>\n",
       "      <td>0.519618</td>\n",
       "      <td>0.070494</td>\n",
       "      <td>0.348964</td>\n",
       "      <td>0.170973</td>\n",
       "      <td>0.0</td>\n",
       "    </tr>\n",
       "    <tr>\n",
       "      <th>...</th>\n",
       "      <td>...</td>\n",
       "      <td>...</td>\n",
       "      <td>...</td>\n",
       "      <td>...</td>\n",
       "      <td>...</td>\n",
       "      <td>...</td>\n",
       "    </tr>\n",
       "    <tr>\n",
       "      <th>3130</th>\n",
       "      <td>0.373844</td>\n",
       "      <td>0.515790</td>\n",
       "      <td>0.077831</td>\n",
       "      <td>0.325358</td>\n",
       "      <td>0.317066</td>\n",
       "      <td>1.0</td>\n",
       "    </tr>\n",
       "    <tr>\n",
       "      <th>3131</th>\n",
       "      <td>0.373844</td>\n",
       "      <td>0.468900</td>\n",
       "      <td>0.070494</td>\n",
       "      <td>0.325358</td>\n",
       "      <td>0.317066</td>\n",
       "      <td>0.0</td>\n",
       "    </tr>\n",
       "    <tr>\n",
       "      <th>3132</th>\n",
       "      <td>0.558215</td>\n",
       "      <td>0.515790</td>\n",
       "      <td>0.078150</td>\n",
       "      <td>0.348964</td>\n",
       "      <td>0.170973</td>\n",
       "      <td>1.0</td>\n",
       "    </tr>\n",
       "    <tr>\n",
       "      <th>3133</th>\n",
       "      <td>0.230940</td>\n",
       "      <td>0.468900</td>\n",
       "      <td>0.078150</td>\n",
       "      <td>0.325358</td>\n",
       "      <td>0.317066</td>\n",
       "      <td>1.0</td>\n",
       "    </tr>\n",
       "    <tr>\n",
       "      <th>3134</th>\n",
       "      <td>0.289953</td>\n",
       "      <td>0.515790</td>\n",
       "      <td>0.070175</td>\n",
       "      <td>0.348964</td>\n",
       "      <td>0.170973</td>\n",
       "      <td>1.0</td>\n",
       "    </tr>\n",
       "  </tbody>\n",
       "</table>\n",
       "<p>3135 rows × 6 columns</p>\n",
       "</div>"
      ],
      "text/plain": [
       "       XAGEWX1    SSWTX1   LCSWTX1   MCSWTX1   SVTWTX1  PSCTX1\n",
       "0     0.230940  0.515790  0.069219  0.328548  0.170973     1.0\n",
       "1     0.230940  0.519618  0.078150  0.325358  0.515790     0.0\n",
       "2     0.558215  0.468900  0.069219  0.325358  0.170973     1.0\n",
       "3     0.373844  0.519618  0.069219  0.348964  0.170973     1.0\n",
       "4     0.289953  0.519618  0.070494  0.348964  0.170973     0.0\n",
       "...        ...       ...       ...       ...       ...     ...\n",
       "3130  0.373844  0.515790  0.077831  0.325358  0.317066     1.0\n",
       "3131  0.373844  0.468900  0.070494  0.325358  0.317066     0.0\n",
       "3132  0.558215  0.515790  0.078150  0.348964  0.170973     1.0\n",
       "3133  0.230940  0.468900  0.078150  0.325358  0.317066     1.0\n",
       "3134  0.289953  0.515790  0.070175  0.348964  0.170973     1.0\n",
       "\n",
       "[3135 rows x 6 columns]"
      ]
     },
     "execution_count": 355,
     "metadata": {},
     "output_type": "execute_result"
    }
   ],
   "source": [
    "SSWTX1 = CovidCLF['Serious_symptoms'].apply(SSWTX).tolist()\n",
    "LCSWTX1 = CovidCLF['Less_common_symptoms'].apply(LCSWTX).tolist()\n",
    "MCSWTX1 = CovidCLF['Most_common_symptoms'].apply(MCSWTX).tolist()\n",
    "SVTWTX1 = CovidCLF['Severity'].apply(SVTWTX).tolist()\n",
    "PSCTX1 = CovidCLF['Patient_Status'].apply(PSCTX).tolist()\n",
    "XAGEWX1 = CovidCLF['XAge'].apply(XAGEWX).tolist()\n",
    "\n",
    "SimCovidX = pd.DataFrame(np.column_stack([XAGEWX1,SSWTX1,LCSWTX1,MCSWTX1,SVTWTX1,PSCTX1]),\n",
    "                        columns=['XAGEWX1','SSWTX1','LCSWTX1','MCSWTX1','SVTWTX1','PSCTX1'])\n",
    "SimCovidX"
   ]
  },
  {
   "cell_type": "code",
   "execution_count": 356,
   "metadata": {},
   "outputs": [
    {
     "data": {
      "text/plain": [
       "(3135, 5)"
      ]
     },
     "execution_count": 356,
     "metadata": {},
     "output_type": "execute_result"
    }
   ],
   "source": [
    "DataX = np.array([XAGEWX1,SSWTX1,LCSWTX1,MCSWTX1,SVTWTX1]).transpose()\n",
    "DataX.shape"
   ]
  },
  {
   "cell_type": "code",
   "execution_count": 357,
   "metadata": {},
   "outputs": [
    {
     "data": {
      "text/plain": [
       "(3135,)"
      ]
     },
     "execution_count": 357,
     "metadata": {},
     "output_type": "execute_result"
    }
   ],
   "source": [
    "TargetX = np.array(PSCTX1)\n",
    "TargetX.shape"
   ]
  },
  {
   "cell_type": "code",
   "execution_count": 358,
   "metadata": {},
   "outputs": [],
   "source": [
    "X = DataX\n",
    "y = TargetX"
   ]
  },
  {
   "cell_type": "code",
   "execution_count": 359,
   "metadata": {},
   "outputs": [],
   "source": [
    "X_train, X_test, y_train, y_test =train_test_split(X, y, test_size=0.3,random_state=21, stratify=y)"
   ]
  },
  {
   "cell_type": "code",
   "execution_count": 360,
   "metadata": {},
   "outputs": [
    {
     "data": {
      "text/plain": [
       "(2194, 5)"
      ]
     },
     "execution_count": 360,
     "metadata": {},
     "output_type": "execute_result"
    }
   ],
   "source": [
    "X_train.shape"
   ]
  },
  {
   "cell_type": "code",
   "execution_count": 361,
   "metadata": {},
   "outputs": [
    {
     "data": {
      "text/plain": [
       "(941, 5)"
      ]
     },
     "execution_count": 361,
     "metadata": {},
     "output_type": "execute_result"
    }
   ],
   "source": [
    "X_test.shape"
   ]
  },
  {
   "cell_type": "code",
   "execution_count": 362,
   "metadata": {},
   "outputs": [],
   "source": [
    "from sklearn.neighbors import KNeighborsClassifier\n",
    "knn = KNeighborsClassifier(n_neighbors=5)"
   ]
  },
  {
   "cell_type": "code",
   "execution_count": 363,
   "metadata": {},
   "outputs": [
    {
     "data": {
      "text/plain": [
       "KNeighborsClassifier()"
      ]
     },
     "execution_count": 363,
     "metadata": {},
     "output_type": "execute_result"
    }
   ],
   "source": [
    "knn.fit(X_train,y_train)"
   ]
  },
  {
   "cell_type": "code",
   "execution_count": 364,
   "metadata": {},
   "outputs": [
    {
     "name": "stdout",
     "output_type": "stream",
     "text": [
      "[0 1 0 1 0 1 0 0 1 0 0 0 1 0 0 1 1 1 1 0 1 0 0 1 0 0 1 1 0 1 1 1 0 0 1 1 1\n",
      " 1 1 1 0 0 1 1 1 1 0 0 1 1 0 1 0 1 0 0 1 0 0 0 1 1 1 1 1 1 1 0 0 0 1 0 0 0\n",
      " 0 0 0 1 1 1 0 1 1 1 1 1 0 1 0 1 1 1 0 0 0 0 1 0 1 0 1 1 0 0 1 1 1 1 1 1 0\n",
      " 0 0 1 0 0 1 0 1 0 1 0 0 1 0 1 0 0 1 1 0 0 1 0 0 0 0 0 0 1 1 1 1 1 1 1 0 1\n",
      " 0 0 0 0 0 0 1 0 0 1 0 1 0 1 1 1 0 1 1 0 0 0 0 0 1 1 0 0 0 0 0 1 1 1 0 1 1\n",
      " 1 0 1 0 0 1 1 1 0 1 0 0 0 1 1 0 0 0 1 0 0 0 1 0 1 1 0 0 1 0 1 1 1 1 0 1 0\n",
      " 1 1 1 0 0 1 0 1 1 1 1 0 1 1 1 0 1 0 0 0 0 0 0 0 1 1 1 0 1 1 0 0 1 1 0 0 1\n",
      " 0 1 1 0 1 0 0 1 0 0 0 0 0 1 0 0 1 1 1 0 0 1 1 0 1 0 1 0 1 0 0 0 0 0 1 0 0\n",
      " 0 0 0 1 1 1 0 1 0 1 1 1 1 0 1 1 1 0 0 1 0 1 1 1 1 0 0 1 0 1 1 0 0 0 1 1 1\n",
      " 0 1 1 1 1 0 0 0 1 1 0 0 1 0 0 0 0 0 1 0 1 1 1 0 1 0 1 1 0 1 0 1 1 1 0 1 0\n",
      " 1 0 0 1 0 1 1 0 0 0 1 0 0 1 1 0 1 1 0 1 1 0 0 0 0 1 0 1 1 0 0 0 1 0 1 0 0\n",
      " 0 1 1 1 1 0 0 0 0 0 1 1 1 0 0 1 1 1 0 1 1 1 0 1 1 0 1 0 1 0 1 0 1 1 1 0 0\n",
      " 1 1 0 1 1 0 0 0 1 0 1 0 1 1 0 1 1 1 1 0 0 0 1 0 1 0 0 0 0 0 0 1 1 1 0 1 1\n",
      " 0 0 0 0 1 0 0 0 0 1 0 1 1 0 0 0 1 0 1 1 1 1 1 1 0 0 0 1 0 1 1 0 0 1 1 1 1\n",
      " 1 1 0 1 0 0 1 0 0 1 1 0 0 0 1 1 1 1 1 0 1 1 0 1 0 0 1 1 1 1 0 1 1 1 0 0 1\n",
      " 1 1 0 0 1 1 1 0 1 0 0 0 0 0 0 0 1 0 0 1 0 1 0 0 0 0 0 0 1 0 0 1 0 0 0 0 0\n",
      " 1 1 0 0 1 1 1 1 1 1 0 0 0 0 1 1 1 1 1 1 1 0 0 1 0 0 1 0 0 0 1 1 1 1 1 0 1\n",
      " 0 0 0 1 0 1 0 1 0 1 0 0 1 0 0 0 0 0 0 1 0 1 1 1 1 1 0 0 0 0 1 0 1 0 1 0 0\n",
      " 1 0 0 0 0 0 1 1 1 0 1 0 1 1 1 1 1 1 1 1 1 1 1 0 1 1 1 0 0 1 1 0 1 1 0 0 0\n",
      " 1 1 1 0 1 0 0 1 0 1 0 0 1 0 0 0 1 0 1 1 0 0 0 1 1 1 0 1 1 1 0 1 1 0 1 1 0\n",
      " 1 1 0 0 1 1 1 0 0 0 0 0 0 0 0 0 0 0 1 1 1 0 0 1 1 0 0 1 1 1 1 1 1 0 1 1 0\n",
      " 0 0 0 0 0 1 0 0 1 0 0 1 0 0 0 0 1 0 0 1 0 1 1 1 1 1 1 0 0 1 1 1 1 1 1 1 0\n",
      " 1 0 1 1 1 1 0 0 0 0 1 1 0 0 1 0 1 1 1 1 0 1 1 1 0 0 0 0 1 1 1 1 0 0 0 1 1\n",
      " 0 1 0 0 0 1 0 1 1 1 0 1 1 1 1 0 0 1 0 0 1 1 0 1 0 1 1 0 1 1 1 0 0 1 1 1 0\n",
      " 1 0 0 0 0 1 0 0 1 1 1 1 0 1 0 1 0 1 0 1 1 1 1 1 0 1 1 1 0 1 1 1 1 0 1 0 0\n",
      " 1 0 1 0 1 1 1 1 1 0 0 0 1 0 0 1]\n"
     ]
    }
   ],
   "source": [
    "y_pred = knn.predict(X_test)\n",
    "print(y_pred)"
   ]
  },
  {
   "cell_type": "code",
   "execution_count": 365,
   "metadata": {},
   "outputs": [
    {
     "data": {
      "text/plain": [
       "0.5175345377258236"
      ]
     },
     "execution_count": 365,
     "metadata": {},
     "output_type": "execute_result"
    }
   ],
   "source": [
    " accuracy_score(y_test, y_pred)"
   ]
  },
  {
   "cell_type": "code",
   "execution_count": 366,
   "metadata": {},
   "outputs": [
    {
     "name": "stdout",
     "output_type": "stream",
     "text": [
      "The Weight Matrix for the model is:\n",
      "\n",
      "chest pain or pressure                         0.519617\n",
      "difficulty breathing or shortness of breath    0.515789\n",
      "loss of speech or movement                     0.468900\n",
      "Name: Serious_symptoms, dtype: float64 sore throat                                             0.078150\n",
      "diarrhoea                                               0.077831\n",
      "a rash on skin, or discolouration of fingers or toes    0.074003\n",
      "aches and pains                                         0.070494\n",
      "conjunctivitis                                          0.070175\n",
      "headache                                                0.069219\n",
      "loss of taste or smell                                  0.061563\n",
      "Name: Less_common_symptoms, dtype: float64 fever        0.348963\n",
      "tiredness    0.328549\n",
      "dry cough    0.325359\n",
      "Name: Most_common_symptoms, dtype: float64 Seviour     0.515789\n",
      "Mild        0.170973\n",
      "Moderate    0.317065\n",
      "Name: Severity, dtype: float64 G1    0.115470\n",
      "G4    0.111643\n",
      "G2    0.096651\n",
      "G3    0.093461\n",
      "G0    0.084211\n",
      "Name: XAge, dtype: float64\n"
     ]
    }
   ],
   "source": [
    "print('The Weight Matrix for the model is:\\n')\n",
    "print(WMSSWT2,WMLCSWT2,WMMCSWT2,WMSVTWT2,WMXAGEWT2)\n"
   ]
  },
  {
   "cell_type": "markdown",
   "metadata": {},
   "source": []
  },
  {
   "cell_type": "code",
   "execution_count": null,
   "metadata": {},
   "outputs": [],
   "source": []
  },
  {
   "cell_type": "code",
   "execution_count": null,
   "metadata": {},
   "outputs": [],
   "source": [
    "\n"
   ]
  },
  {
   "cell_type": "code",
   "execution_count": null,
   "metadata": {},
   "outputs": [],
   "source": []
  }
 ],
 "metadata": {
  "kernelspec": {
   "display_name": "Python 3",
   "language": "python",
   "name": "python3"
  },
  "language_info": {
   "codemirror_mode": {
    "name": "ipython",
    "version": 3
   },
   "file_extension": ".py",
   "mimetype": "text/x-python",
   "name": "python",
   "nbconvert_exporter": "python",
   "pygments_lexer": "ipython3",
   "version": "3.7.7"
  }
 },
 "nbformat": 4,
 "nbformat_minor": 4
}
